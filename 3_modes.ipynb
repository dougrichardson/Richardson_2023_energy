{
 "cells": [
  {
   "cell_type": "markdown",
   "id": "f7945b80-32e7-40fa-8d9c-bcf61da26d1e",
   "metadata": {
    "tags": []
   },
   "source": [
    "# Climate modes and diagnostics"
   ]
  },
  {
   "cell_type": "code",
   "execution_count": null,
   "id": "ec2e6e89-20c7-4356-b6b9-bc8e18e4bae9",
   "metadata": {},
   "outputs": [],
   "source": [
    "from dask.distributed import Client,LocalCluster\n",
    "from dask_jobqueue import PBSCluster"
   ]
  },
  {
   "cell_type": "code",
   "execution_count": null,
   "id": "141b36b6-412b-471b-b1c8-139de88976d8",
   "metadata": {},
   "outputs": [],
   "source": [
    "# One node on Gadi has 48 cores - try and use up a full node before going to multiple nodes (jobs)\n",
    "\n",
    "walltime = '00:30:00'\n",
    "cores = 10\n",
    "memory = str(4 * cores) + 'GB'\n",
    "\n",
    "cluster = PBSCluster(walltime=str(walltime), cores=cores, memory=str(memory), processes=cores,\n",
    "                     job_extra_directives=['-q normal',\n",
    "                                           '-P w42',\n",
    "                                           '-l ncpus='+str(cores),\n",
    "                                           '-l mem='+str(memory),\n",
    "                                           '-l storage=gdata/w42+gdata/rt52'],\n",
    "                     local_directory='$TMPDIR',\n",
    "                     job_directives_skip=[\"select\"])"
   ]
  },
  {
   "cell_type": "code",
   "execution_count": null,
   "id": "087c8e91-338d-4998-8bfd-65087ec089ec",
   "metadata": {},
   "outputs": [],
   "source": [
    "cluster.scale(jobs=1)\n",
    "client = Client(cluster)"
   ]
  },
  {
   "cell_type": "code",
   "execution_count": null,
   "id": "d53116ac-7ad9-4c9a-afc2-1e148f14a428",
   "metadata": {},
   "outputs": [],
   "source": [
    "client"
   ]
  },
  {
   "cell_type": "code",
   "execution_count": null,
   "id": "cc8c38f5-4367-46b4-91ab-c9e18baf580e",
   "metadata": {},
   "outputs": [],
   "source": [
    "%load_ext autoreload\n",
    "%autoreload 2"
   ]
  },
  {
   "cell_type": "code",
   "execution_count": null,
   "id": "624b798d-ba12-4b30-b948-7f85e14bcfcb",
   "metadata": {},
   "outputs": [],
   "source": [
    "# import warnings\n",
    "\n",
    "import xarray as xr\n",
    "import numpy as np\n",
    "import regionmask\n",
    "\n",
    "import xskillscore as xs\n",
    "\n",
    "%matplotlib inline\n",
    "import matplotlib\n",
    "import matplotlib.pyplot as plt\n",
    "# from mpl_toolkits.axes_grid1.inset_locator import inset_axes\n",
    "\n",
    "import cartopy.crs as ccrs\n",
    "import cartopy\n",
    "cartopy.config['pre_existing_data_dir'] = '/g/data/w42/dr6273/work/data/cartopy-data/'\n",
    "cartopy.config['data_dir'] = '/g/data/w42/dr6273/work/data/cartopy-data/'\n",
    "from cartopy.util import add_cyclic_point\n",
    "\n",
    "import string\n",
    "letters = list(string.ascii_lowercase)"
   ]
  },
  {
   "cell_type": "code",
   "execution_count": null,
   "id": "cfa0ec67-adde-4463-bf5a-658919ef8768",
   "metadata": {},
   "outputs": [],
   "source": [
    "%cd /g/data/w42/dr6273/work/AEMO_compound_events/\n",
    "\n",
    "import functions as fn"
   ]
  },
  {
   "cell_type": "code",
   "execution_count": null,
   "id": "4c075c09-f239-4f24-87f7-7f5942d49a77",
   "metadata": {},
   "outputs": [],
   "source": [
    "plt_params = fn.get_plot_params()\n",
    "prop_cycle = plt.rcParams['axes.prop_cycle']\n",
    "colors = prop_cycle.by_key()['color']"
   ]
  },
  {
   "cell_type": "code",
   "execution_count": null,
   "id": "bcd89aee-d67f-4000-9b2b-a15f3fab680a",
   "metadata": {},
   "outputs": [],
   "source": [
    "plt_params"
   ]
  },
  {
   "cell_type": "code",
   "execution_count": null,
   "id": "87cbee15-c095-4764-abaf-4177b8a84128",
   "metadata": {},
   "outputs": [],
   "source": [
    "years = range(1959, 2022)\n",
    "\n",
    "data_fp = '/g/data/w42/dr6273/work/data/'\n",
    "\n",
    "season_dict = fn.get_seasons()"
   ]
  },
  {
   "cell_type": "markdown",
   "id": "eee68252-ca0e-4bcf-ac96-920ace3e3586",
   "metadata": {},
   "source": [
    "# Load masks"
   ]
  },
  {
   "cell_type": "code",
   "execution_count": null,
   "id": "493134a1-4f30-4fec-8848-fe475c991168",
   "metadata": {},
   "outputs": [],
   "source": [
    "rez_mask = fn.get_rez_mask()"
   ]
  },
  {
   "cell_type": "markdown",
   "id": "13b379b2-f471-448f-bfe0-1d2216cebd32",
   "metadata": {},
   "source": [
    "# Load energy source and demand data"
   ]
  },
  {
   "cell_type": "markdown",
   "id": "1570291c-1973-4f0c-b527-19d791880e72",
   "metadata": {},
   "source": [
    "Sources: daily wind, daily solar and monthly runoff"
   ]
  },
  {
   "cell_type": "code",
   "execution_count": null,
   "id": "8a52f5dc-49a6-4a91-a0ff-edcef96f59ba",
   "metadata": {},
   "outputs": [],
   "source": [
    "rez_100w = xr.open_zarr(\n",
    "    '/g/data/w42/dr6273/work/projects/Aus_energy/data/100w_era5_daily_1400UTC_sfc_'+str(years[0])+'-'+str(years[-1])+'_REZ_region_mean.zarr',\n",
    "    consolidated=True\n",
    ")['100w']#.compute()"
   ]
  },
  {
   "cell_type": "code",
   "execution_count": null,
   "id": "00288098-987b-4291-85c2-523e3d9383a5",
   "metadata": {},
   "outputs": [],
   "source": [
    "rez_mssrd = xr.open_zarr(\n",
    "    '/g/data/w42/dr6273/work/projects/Aus_energy/data/mssrd_era5_daily_1400UTC_sfc_'+str(years[0])+'-'+str(years[-1])+'_REZ_region_mean.zarr',\n",
    "    consolidated=True\n",
    ")['mssrd']#.compute()"
   ]
  },
  {
   "cell_type": "markdown",
   "id": "0aca587e-63d8-42bd-b1c6-2a07f08ffa17",
   "metadata": {},
   "source": [
    "Aus - gridded"
   ]
  },
  {
   "cell_type": "code",
   "execution_count": null,
   "id": "c9c99f5e-d71c-41d0-bcf8-a33443319476",
   "metadata": {},
   "outputs": [],
   "source": [
    "aus_100w = xr.open_zarr(\n",
    "    '/g/data/w42/dr6273/work/data/era5/100w/100w_era5_daily_1400UTC_sfc_'+str(years[0])+'-'+str(years[-1])+'_AUS_region.zarr',\n",
    "    consolidated=True\n",
    ")['w100']"
   ]
  },
  {
   "cell_type": "code",
   "execution_count": null,
   "id": "f0a8e00a-9655-4b87-9b4c-eae7bc5b7372",
   "metadata": {},
   "outputs": [],
   "source": [
    "aus_mssrd = xr.open_zarr(\n",
    "    '/g/data/w42/dr6273/work/data/era5/msdwswrf/msdwswrf_era5_daily_1400UTC_sfc_'+str(years[0])+'-'+str(years[-1])+'_AUS_region.zarr',\n",
    "    consolidated=True\n",
    ")['msdwswrf']"
   ]
  },
  {
   "cell_type": "markdown",
   "id": "2ff280f3-9800-4757-be9f-39b178cfb7a7",
   "metadata": {},
   "source": [
    "Thresholds for event definitions"
   ]
  },
  {
   "cell_type": "code",
   "execution_count": null,
   "id": "c149941f-53b9-49dd-a492-b3c0a121a7eb",
   "metadata": {},
   "outputs": [],
   "source": [
    "thresh_100w = rez_100w.chunk({'time': -1}).quantile(0.25, ['time', 'region']) #4 # Close to all region-time 25th percentile of 4.19\n",
    "thresh_mssrd = rez_mssrd.chunk({'time': -1}).quantile(0.25, ['time', 'region']) #170 # All region-time 25th percentile is 132.7"
   ]
  },
  {
   "cell_type": "markdown",
   "id": "fd64ac77-39b9-48aa-a87d-03acfcb5a27d",
   "metadata": {},
   "source": [
    "### Events"
   ]
  },
  {
   "cell_type": "code",
   "execution_count": null,
   "id": "0a6a78bb-85d9-48d4-817a-ce144c70e4a2",
   "metadata": {},
   "outputs": [],
   "source": [
    "events_100w = fn.get_events(rez_100w, thresh_100w, tail='lower').compute()"
   ]
  },
  {
   "cell_type": "code",
   "execution_count": null,
   "id": "8b3334ae-bdb8-4144-9d8d-58f26a9c244c",
   "metadata": {},
   "outputs": [],
   "source": [
    "events_mssrd = fn.get_events(rez_mssrd, thresh_mssrd, tail='lower').compute()"
   ]
  },
  {
   "cell_type": "code",
   "execution_count": null,
   "id": "8b4d48a9-dfb0-4276-a093-b93c87969747",
   "metadata": {},
   "outputs": [],
   "source": [
    "events_100w_mssrd = fn.get_compound_events(rez_100w, rez_mssrd, thresh_100w, thresh_mssrd).compute()"
   ]
  },
  {
   "cell_type": "markdown",
   "id": "82539a77-305a-48cc-94f3-d0d69dc22c71",
   "metadata": {},
   "source": [
    "### Daily events over all regions"
   ]
  },
  {
   "cell_type": "code",
   "execution_count": null,
   "id": "3a363e45-613c-4b4c-adff-fd011bf475b1",
   "metadata": {},
   "outputs": [],
   "source": [
    "simul_100w = fn.concurrent_lulls(events_100w, [1, 3, 5, 7], rez_mask)\n",
    "simul_mssrd = fn.concurrent_lulls(events_mssrd, [2, 3, 6, 7], rez_mask)\n",
    "simul_100w_mssrd = fn.concurrent_lulls(events_100w_mssrd, [3, 7], rez_mask)"
   ]
  },
  {
   "cell_type": "markdown",
   "id": "eb35d52b-63de-4eca-aca8-852bc9a8b99a",
   "metadata": {},
   "source": [
    "### Seasonal events over all regions"
   ]
  },
  {
   "cell_type": "code",
   "execution_count": null,
   "id": "411c3b5a-b49b-4873-b767-5c95200cb774",
   "metadata": {},
   "outputs": [],
   "source": [
    "season_100w = fn.seasonal_mean(simul_100w)\n",
    "season_mssrd = fn.seasonal_mean(simul_mssrd)\n",
    "season_100w_mssrd = fn.seasonal_mean(simul_100w_mssrd)"
   ]
  },
  {
   "cell_type": "markdown",
   "id": "a5fca088-b5be-42ed-8d17-e999e57019d6",
   "metadata": {},
   "source": [
    "# Load diagnostics and climate mode indices"
   ]
  },
  {
   "cell_type": "markdown",
   "id": "9c281057-d330-44ca-a488-25de908ac9c3",
   "metadata": {},
   "source": [
    "### Monthly diagnostics and seasonal means"
   ]
  },
  {
   "cell_type": "markdown",
   "id": "1fe9f8d6-e408-4892-8f5e-ce4a8f5837fe",
   "metadata": {},
   "source": [
    "HadISST SST anomalies"
   ]
  },
  {
   "cell_type": "code",
   "execution_count": null,
   "id": "699b0499-e418-4839-9670-42a1b048689d",
   "metadata": {},
   "outputs": [],
   "source": [
    "sst_fp = data_fp + 'hadisst/sst/sst_anom_hadisst_moda_sfc_'+str(years[0])+'-'+str(years[-1])+'.zarr'\n",
    "sst_anoms = xr.open_zarr(sst_fp, consolidated=True)\n",
    "sst_anoms = fn.seasonal_mean(sst_anoms)"
   ]
  },
  {
   "cell_type": "markdown",
   "id": "dbae59c1-e45f-4b8d-af89-346635c8f9d5",
   "metadata": {},
   "source": [
    "ERA5 MSLP anomalies"
   ]
  },
  {
   "cell_type": "code",
   "execution_count": null,
   "id": "1a5090e2-29b9-45bf-aa5e-dabf8502627d",
   "metadata": {},
   "outputs": [],
   "source": [
    "mslp_fp = data_fp + 'era5/mslp/mslp_anom_era5_moda_sfc_'+str(years[0])+'-'+str(years[-1])+'.zarr'\n",
    "mslp_anoms = xr.open_zarr(mslp_fp, consolidated=True)\n",
    "mslp_anoms = fn.seasonal_mean(mslp_anoms)"
   ]
  },
  {
   "cell_type": "markdown",
   "id": "9061e7c5-7e9a-4a14-907c-e6d4c8bd5469",
   "metadata": {},
   "source": [
    "### Climate mode indices"
   ]
  },
  {
   "cell_type": "markdown",
   "id": "41dfa287-59ec-4bdc-839d-f71cead83c63",
   "metadata": {},
   "source": [
    "Nino3.4"
   ]
  },
  {
   "cell_type": "code",
   "execution_count": null,
   "id": "89b25b6b-97c7-4de7-bed9-5bb53f06211c",
   "metadata": {},
   "outputs": [],
   "source": [
    "nino34_fp = data_fp + 'hadisst/climate_modes/hadisst_nino34_'+str(years[0])+'-'+str(years[-1])+'.zarr'\n",
    "nino34 = xr.open_zarr(nino34_fp, consolidated=True)\n",
    "nino34 = fn.seasonal_mean(nino34)\n",
    "nino34 = nino34.compute()"
   ]
  },
  {
   "cell_type": "markdown",
   "id": "b0e74e93-9e74-47cd-917f-74159b047782",
   "metadata": {},
   "source": [
    "DMI"
   ]
  },
  {
   "cell_type": "code",
   "execution_count": null,
   "id": "df5a4011-782f-4876-b66d-9a4ff6a8f39d",
   "metadata": {},
   "outputs": [],
   "source": [
    "dmi_fp = data_fp + 'hadisst/climate_modes/hadisst_dmi_'+str(years[0])+'-'+str(years[-1])+'.zarr'\n",
    "dmi = xr.open_zarr(dmi_fp, consolidated=True)\n",
    "dmi = fn.seasonal_mean(dmi)\n",
    "dmi = dmi.compute()"
   ]
  },
  {
   "cell_type": "markdown",
   "id": "993861c6-6512-4937-991d-3ea697c63f54",
   "metadata": {},
   "source": [
    "SAM"
   ]
  },
  {
   "cell_type": "code",
   "execution_count": null,
   "id": "ecf6ec59-231e-4335-94dc-79ea49152b5f",
   "metadata": {},
   "outputs": [],
   "source": [
    "sam_fp = data_fp + 'era5/climate_modes/era5_sam_'+str(years[0])+'-'+str(years[-1])+'.zarr'\n",
    "sam = xr.open_zarr(sam_fp, consolidated=True)\n",
    "sam = fn.seasonal_mean(sam)\n",
    "sam = sam.compute()"
   ]
  },
  {
   "cell_type": "markdown",
   "id": "5d0b3fd6-e8ab-43d7-9a52-0a7fc65edb05",
   "metadata": {},
   "source": [
    "# Monthly diagnostics on spatially extensive wind/solar/compound drought years"
   ]
  },
  {
   "cell_type": "markdown",
   "id": "0c017b91-846b-4868-948e-f67e834f8463",
   "metadata": {},
   "source": [
    "### Set variables"
   ]
  },
  {
   "cell_type": "code",
   "execution_count": null,
   "id": "f4c6a3bc-61bf-488d-a104-9287d2169d3a",
   "metadata": {},
   "outputs": [],
   "source": [
    "thresh_spatial = 0.9"
   ]
  },
  {
   "cell_type": "markdown",
   "id": "1a51e549-55ef-4c99-befa-e1fdc01c3de9",
   "metadata": {},
   "source": [
    "### Composite maps"
   ]
  },
  {
   "cell_type": "code",
   "execution_count": null,
   "id": "c12942fa-b503-4bfd-b4d9-867b7076cded",
   "metadata": {},
   "outputs": [],
   "source": [
    "def plot_sst_mslp(ax, sst_da, mslp_da, years, text=None):\n",
    "    \"\"\"\n",
    "    Plot SST shading and MSLP contours on an axis.\n",
    "    \"\"\"\n",
    "    m = 5000\n",
    "    mslp_levels = np.arange(-m, m+1, 100)\n",
    "    mslp_levels = [i for i in mslp_levels if i != 0]\n",
    "    \n",
    "    ax.set_extent([0, 359.99, 20, -90])\n",
    "    ax.coastlines(linewidths=0.3, rasterized=True)\n",
    "    \n",
    "    p = sst_da.plot(\n",
    "        ax=ax,\n",
    "        transform=ccrs.PlateCarree(),\n",
    "        vmin=-1.8,\n",
    "        vmax=1.8,\n",
    "        cmap='RdBu_r',\n",
    "        add_colorbar=False,\n",
    "        rasterized=True\n",
    "    )\n",
    "    mslp_da.plot.contour(\n",
    "        ax=ax,\n",
    "        transform=ccrs.PlateCarree(),\n",
    "        levels=mslp_levels,\n",
    "        colors='k',\n",
    "        linewidths=0.3\n",
    "    )\n",
    "    \n",
    "    if isinstance(text, str):\n",
    "        ax.text(0.93, 0.93, text, ha='right', va='top',\n",
    "                bbox=dict(facecolor='white', alpha=1, lw=0.5),\n",
    "                transform=ax.transAxes)\n",
    "    \n",
    "    format_years = [str(i) for i in years]\n",
    "    title = ', '.join(format_years)\n",
    "    ax.set_title(title, fontsize=plt_params['font.size'] / 1.7, pad=0)\n",
    "    \n",
    "    return p"
   ]
  },
  {
   "cell_type": "code",
   "execution_count": null,
   "id": "c1935f97-373e-4a5d-be3a-4d93687068e6",
   "metadata": {},
   "outputs": [],
   "source": [
    "with plt.rc_context(plt_params):\n",
    "    fig = plt.figure(figsize=(6.9, 3.2), dpi=150)\n",
    "    \n",
    "    axes = []\n",
    "    for i in range(12):\n",
    "        axes.append(fig.add_subplot(4, 3, i+1, projection=ccrs.PlateCarree(central_longitude=180)))\n",
    "    \n",
    "    i = 0\n",
    "    for season in list(season_dict.keys())[1:]:\n",
    "        for var in [season_mssrd, season_100w, season_100w_mssrd]:\n",
    "            years, n_events, p_sst = fn.composite_data(\n",
    "                var,\n",
    "                sst_anoms['sst_anom'],\n",
    "                season,\n",
    "                thresh_spatial\n",
    "            )\n",
    "\n",
    "            _, _, p_mslp = fn.composite_data(\n",
    "                var,\n",
    "                mslp_anoms['mslp_anom'],\n",
    "                season,\n",
    "                thresh_spatial\n",
    "            )\n",
    "\n",
    "            ax = axes[i]\n",
    "            p = plot_sst_mslp(ax, p_sst, p_mslp, years)\n",
    "            label = '(' + letters[i] + ') '\n",
    "            ax.text(0.035, 0.8, label, transform=ax.transAxes)\n",
    "            \n",
    "            i += 1\n",
    "                        \n",
    "    plt.subplots_adjust(hspace=0.02, wspace=0.03)\n",
    "    \n",
    "    axes[0].text(0.5, 1.15, 'Solar', ha='center', transform=axes[0].transAxes)\n",
    "    axes[1].text(0.5, 1.15, 'Wind', ha='center', transform=axes[1].transAxes)\n",
    "    axes[2].text(0.5, 1.15, 'Compound', ha='center', transform=axes[2].transAxes)\n",
    "    \n",
    "    axes[0].text(-0.1, 0.5, 'Winter', rotation=90, va='center', transform=axes[0].transAxes)\n",
    "    axes[3].text(-0.1, 0.5, 'Spring', rotation=90, va='center', transform=axes[3].transAxes)\n",
    "    axes[6].text(-0.1, 0.5, 'Summer', rotation=90, va='center', transform=axes[6].transAxes)\n",
    "    axes[9].text(-0.1, 0.5, 'Autumn', rotation=90, va='center', transform=axes[9].transAxes)\n",
    "    \n",
    "    cb_ax1 = fig.add_axes([0.33, 0.08, 0.36, 0.02])\n",
    "    cb1 = fig.colorbar(p, cax=cb_ax1, orientation='horizontal', ticks=np.arange(-1.8, 1.9, 0.6))\n",
    "    cb1.ax.set_xlabel(r'SST anomaly [$^{\\circ}$C]')\n",
    "    \n",
    "    plt.savefig('./figures/Fig3_composites.pdf', format='pdf', dpi=400, bbox_inches='tight')"
   ]
  },
  {
   "cell_type": "markdown",
   "id": "c4a525e3-7999-4a9d-912c-cea4068753de",
   "metadata": {},
   "source": [
    "### Climate modes PDFS"
   ]
  },
  {
   "cell_type": "code",
   "execution_count": null,
   "id": "d751d811-b949-41ae-b66b-7e667b2d8335",
   "metadata": {},
   "outputs": [],
   "source": [
    "def mode_hist(ax, event_da_list, diag_da, season, q, xmin=-2.5, xmax=2.5, nbins=20, time_name='time'):\n",
    "    \"\"\"\n",
    "    Get the histogram of diag_da for the season, and the individual\n",
    "    points for values of diag_da on event years for each event in\n",
    "    event_da_list.\n",
    "    \"\"\"\n",
    "    event_values = []\n",
    "    # Loop through event_da_list (usually wind, solar and compound) to get mode index\n",
    "    #  values on events.\n",
    "    for i, event_da in enumerate(event_da_list):\n",
    "        years, events, _, diag_events = fn.subset_on_events(event_da, diag_da, season, q, time_name)\n",
    "        event_values.append(diag_events.where(events.notnull()).dropna(time_name).values)\n",
    "    diag_season = fn.month_subset(diag_da, fn.get_seasons()[season])\n",
    "\n",
    "    # Histogram\n",
    "    b = np.linspace(xmin, xmax, nbins)\n",
    "    bins, hist = fn.hist_data(diag_season, b)\n",
    "    \n",
    "    ax.plot(bins, hist, color='k', lw=0.5)\n",
    "    ax.fill_between(bins, 0, hist, color='k', alpha=0.15)\n",
    "    \n",
    "    # +- x * standard deviations\n",
    "    std = diag_season.std(time_name).values\n",
    "    ax.axvline(std * 1, ls='--', lw=0.5, color='k')\n",
    "    ax.axvline(std * -1, ls='--', lw=0.5, color='k')\n",
    "    \n",
    "    # Get ymax rounded up\n",
    "    ymax = fn.round_decimals_up(np.max(hist), 1)\n",
    "    # Use this to set y location of markers\n",
    "    central_y = ymax / 9\n",
    "    lower_y = central_y / 2.3\n",
    "    upper_y = central_y * 1.8\n",
    "    \n",
    "    for values, y, marker, color, label in zip(\n",
    "        event_values,\n",
    "        [lower_y, central_y, upper_y],\n",
    "        ['*', 'x', '.'],\n",
    "        [colors[1], colors[0], colors[4]],\n",
    "        ['Solar', 'Wind', 'Compound']\n",
    "    ):\n",
    "        s = ax.scatter(values, np.repeat(y, len(values)), color=color, marker=marker, s=10, lw=0.5, label=label)\n",
    "        \n",
    "    ax.set_xlim(xmin, xmax)\n",
    "    \n",
    "    # yticks (surely a better way exists...)\n",
    "    if ymax > 1:\n",
    "        ax.set_yticks(np.arange(0, 1.9, 0.6))\n",
    "    elif (ymax <= 1) & (ymax > 0.8):\n",
    "        ax.set_yticks(np.arange(0, 1.1, 0.5))\n",
    "    elif (ymax <= 0.8) & (ymax > 0.5):\n",
    "        ax.set_yticks(np.arange(0, 0.81, 0.4))\n",
    "    else:\n",
    "        ax.set_yticks(np.arange(0, 0.5, 0.2))\n",
    "        \n",
    "    return s"
   ]
  },
  {
   "cell_type": "markdown",
   "id": "d5320808-ca4f-4ef7-a799-2c3a6d7c440e",
   "metadata": {},
   "source": [
    "#### Print some stats"
   ]
  },
  {
   "cell_type": "code",
   "execution_count": null,
   "id": "4c7351dd-d2e2-4d21-872e-cf073bdd5a6c",
   "metadata": {},
   "outputs": [],
   "source": [
    "e_da = season_100w_mssrd\n",
    "m_da = sam['sam']\n",
    "season = 'Winter'\n",
    "\n",
    "# for i, event_da in enumerate(event_da_list):\n",
    "years, events, _, diag_events = fn.subset_on_events(e_da, m_da, season, thresh_spatial, 'time')\n",
    "print(diag_events.where(events.notnull()).dropna('time').values)\n",
    "print(years)"
   ]
  },
  {
   "cell_type": "code",
   "execution_count": null,
   "id": "b1115ab4-ebae-4d1c-ac35-a46c8031db45",
   "metadata": {},
   "outputs": [],
   "source": [
    "e_da = season_mssrd\n",
    "m_da = nino34['nino34']\n",
    "season = 'Summer'\n",
    "\n",
    "# for i, event_da in enumerate(event_da_list):\n",
    "years, events, _, diag_events = fn.subset_on_events(e_da, m_da, season, thresh_spatial, 'time')\n",
    "print(diag_events.where(events.notnull()).dropna('time').values)\n",
    "print(years)"
   ]
  },
  {
   "cell_type": "markdown",
   "id": "617a1629-4e57-49e7-bbc4-596865563484",
   "metadata": {},
   "source": [
    "# Difference in drought prob between +ve and -ve phase of modes"
   ]
  },
  {
   "cell_type": "markdown",
   "id": "5d84a67e-34b9-462a-95b6-f36648555720",
   "metadata": {},
   "source": [
    "Compute lull frequency during +ve phase years, subtract lull frequency during -ve phase years, plot map."
   ]
  },
  {
   "cell_type": "code",
   "execution_count": null,
   "id": "1bba410c-e80f-4cd8-8724-0106a828bfaa",
   "metadata": {},
   "outputs": [],
   "source": [
    "def seasonal_sum(da, time_name='time'):\n",
    "    \"\"\"\n",
    "    Calculate seasonal sums. Currently assumes da starts in January.\n",
    "    First aggregates to monthly, then shifts everything forwards\n",
    "    one month, then aggregates over 3 months.\n",
    "    \"\"\"\n",
    "    first_month = da[time_name].dt.month.values[0]\n",
    "    if first_month != 1:\n",
    "        raise ValueError(\"First month should be January. Adjust da or function.\")\n",
    "        \n",
    "    # First aggregate to monthly as we want to shift a month ahead\n",
    "    m_da = da.resample({time_name: '1MS'}).sum()\n",
    "    # Now shift a month ahead and calculate 3-monthly means\n",
    "    return m_da.shift({time_name: 1}).resample({time_name: '3MS'}).sum(skipna=False)"
   ]
  },
  {
   "cell_type": "code",
   "execution_count": null,
   "id": "680919cc-f912-4f1f-b41d-21ce01057140",
   "metadata": {},
   "outputs": [],
   "source": [
    "def subset_by_phase(event_da, diag_da, season, time_name='time'):\n",
    "    \"\"\"\n",
    "    Subset an events dataArray by positive and negative phases of climate modes.\n",
    "    \n",
    "    event_da: DataArray of daily events\n",
    "    diag_da: mode DataArray\n",
    "    season: season of interest\n",
    "    \"\"\"\n",
    "    # diag_da subset by season\n",
    "    diag_season = fn.month_subset(diag_da, fn.get_seasons()[season])\n",
    "    # +- x standard deviation thresholds\n",
    "    std = diag_season.std(time_name).values\n",
    "    low_thresh = std * -1\n",
    "    high_thresh = std * 1\n",
    "    \n",
    "    # Events subset by diag_season\n",
    "    low_events = event_da.where(diag_season < low_thresh)\n",
    "    high_events = event_da.where(diag_season > high_thresh)\n",
    "    \n",
    "    return low_events, high_events"
   ]
  },
  {
   "cell_type": "code",
   "execution_count": null,
   "id": "85442bf9-c3bb-40f4-96b7-a024eb4a4cae",
   "metadata": {},
   "outputs": [],
   "source": [
    "def event_diff(event_da, diag_da, season, scale=None, time_name='time'):\n",
    "    \"\"\"\n",
    "    Difference in number of events, computed as event frequency during\n",
    "    positive mode phases minus event frequency during negative mode phases.\n",
    "    \n",
    "    Can be scaled by the standard deviation to say e.g. wind droughts during\n",
    "    positive ENSO are more frequent on average that during negative ENSO by\n",
    "    2 standard deviations.\n",
    "    \"\"\"\n",
    "    # Subset events by negative and positive phases of mode\n",
    "    neg, pos = subset_by_phase(event_da, diag_da, season, time_name)\n",
    "    \n",
    "    neg_m = neg.mean(time_name)\n",
    "    pos_m = pos.mean(time_name)\n",
    "    diff = (pos_m - neg_m)\n",
    "    \n",
    "    if scale == 'std':\n",
    "        return  diff / event_da.std(time_name)\n",
    "    else:\n",
    "        return diff"
   ]
  },
  {
   "cell_type": "markdown",
   "id": "c262131f-a43c-4d96-82da-ee520d029127",
   "metadata": {},
   "source": [
    "First get gridded events"
   ]
  },
  {
   "cell_type": "code",
   "execution_count": null,
   "id": "13c8dc38-598b-49b6-a0cc-d56fd95b16f0",
   "metadata": {},
   "outputs": [],
   "source": [
    "aus_events_mssrd = fn.get_events(aus_mssrd, thresh_mssrd, tail='lower')\n",
    "aus_events_100w = fn.get_events(aus_100w, thresh_100w, tail='lower')\n",
    "aus_events_100w_mssrd = fn.get_compound_events(aus_100w, aus_mssrd, thresh_100w, thresh_mssrd)"
   ]
  },
  {
   "cell_type": "markdown",
   "id": "fdce7183-ec37-44f0-81a7-3cd5c8ceab89",
   "metadata": {},
   "source": [
    "Now get the seasonal totals"
   ]
  },
  {
   "cell_type": "code",
   "execution_count": null,
   "id": "fe2e8206-2b8e-490d-a94d-bd19a7b32a55",
   "metadata": {},
   "outputs": [],
   "source": [
    "aus_events_mssrd_seasonal_total = seasonal_sum(aus_events_mssrd).compute()\n",
    "aus_events_100w_seasonal_total = seasonal_sum(aus_events_100w).compute()\n",
    "aus_events_both_seasonal_total = seasonal_sum(aus_events_100w_mssrd).compute()"
   ]
  },
  {
   "cell_type": "markdown",
   "id": "ee226841-dae6-4eca-aba8-8c931ef0c558",
   "metadata": {},
   "source": [
    "### Bootstrapping"
   ]
  },
  {
   "cell_type": "markdown",
   "id": "aa86327c-b929-4449-82f0-009b96abac63",
   "metadata": {},
   "source": [
    "We want to:\n",
    "- Draw a bootstrap sample of seasons equal in length to the observations\n",
    "- From this sample, randomly select two sets of seasons, equal in length to the number of seasons above and below the thresholds for +ve and -ve climate mode phases.\n",
    "- Subtract these from each other.\n",
    "- Repeat 10000 times\n",
    "- Compare obs with this 10,000-size sample\n"
   ]
  },
  {
   "cell_type": "code",
   "execution_count": null,
   "id": "e48d981d-eeb9-4c6c-8f7f-c49d54b9d3f7",
   "metadata": {},
   "outputs": [],
   "source": [
    "def permutation(\n",
    "    event_da,\n",
    "    mode_da,\n",
    "    season,\n",
    "    n_iter=100,\n",
    "    lower_q=0.05,\n",
    "    upper_q=0.95\n",
    "):\n",
    "    \"\"\"\n",
    "    Compute statistical significance for difference in number of drought\n",
    "    days between positive and negative mode phases.\n",
    "    \n",
    "    DESCRIBE FUNCTION\n",
    "    \n",
    "    event_da: array to resample\n",
    "    mode_da: array used to obtain subsample sizes\n",
    "    season: season to process\n",
    "    n_iter: number of iterations\n",
    "    lower_q, upper_q: [0,1], quantiles to assign significance\n",
    "    \"\"\"\n",
    "    # Get observed differences\n",
    "    obs_da = event_diff(event_da, mode_da, season)\n",
    "    \n",
    "    # Season for event_da and obs_da\n",
    "    months = fn.get_seasons()[season]\n",
    "    event_da = fn.month_subset(event_da, months)\n",
    "    \n",
    "    # Sample sizes of subsamples (from climate mode series)\n",
    "    mode = fn.month_subset(mode_da, months)\n",
    "    n = len(mode[\"time\"])\n",
    "    n_neg = mode.where(mode < -1 * mode.std(\"time\")).count().values\n",
    "    n_pos = mode.where(mode > mode.std(\"time\")).count().values\n",
    "    # print(n_neg, n_pos)\n",
    "    \n",
    "    # Use xskillscore\n",
    "    da_list = []\n",
    "    \n",
    "    pos_list = []\n",
    "    neg_list = []\n",
    "    \n",
    "    sub_iter = n_iter // 100\n",
    "    for i in range(100): # xskillscore isn't great for large iteration sizes, so do in stages\n",
    "\n",
    "        perm_pos = xs.resample_iterations_idx(\n",
    "            event_da,\n",
    "            sub_iter,\n",
    "            dim=\"time\",\n",
    "            replace=False,\n",
    "            dim_max=n_pos\n",
    "        )\n",
    "\n",
    "        perm_neg = xs.resample_iterations_idx(\n",
    "            event_da,\n",
    "            sub_iter,\n",
    "            dim=\"time\",\n",
    "            replace=False,\n",
    "            dim_max=n_neg\n",
    "        )\n",
    "        \n",
    "        pos_list.append(perm_pos)\n",
    "        neg_list.append(perm_neg)\n",
    "\n",
    "        perm_stat = perm_pos.mean(\"time\") - perm_neg.mean(\"time\")\n",
    "        perm_stat = perm_stat.assign_coords(\n",
    "            {\"iteration\": range(sub_iter * i, sub_iter * i + sub_iter)}\n",
    "        )\n",
    "\n",
    "        da_list.append(perm_stat)\n",
    "    perm = xr.concat(da_list, dim=\"iteration\")\n",
    "    \n",
    "    quantiles = (perm < obs_da).mean(\"iteration\")\n",
    "\n",
    "    pvals = quantiles.where(obs_da <= 0, 1 - quantiles)\n",
    "\n",
    "    return pvals #, xr.concat(pos_list, dim=\"iteration\"), xr.concat(neg_list, dim=\"iteration\")"
   ]
  },
  {
   "cell_type": "code",
   "execution_count": null,
   "id": "ca5a99e9-b9dc-4b90-8ddc-09ba3920f1c7",
   "metadata": {},
   "outputs": [],
   "source": [
    "def fdr(p_values_da, alpha=0.1):\n",
    "    \"\"\"\n",
    "    Calculates significance on a DataArray of gridded p-values (p_values_da)\n",
    "    by controlling the false discovery rate.\n",
    "    Returns a DataArray of ones (significant) and zeros (not significant).\n",
    "    \n",
    "    p_values_da: array of p-values\n",
    "    alpha: significance level (often double the alpha in standard hypothesis test)\n",
    "    \"\"\"\n",
    "    p_1d = p_values_da.values.reshape(-1) # 1-D array of p-values\n",
    "    p_1d = p_1d[~np.isnan(p_1d)] # Remove NaNs\n",
    "    \n",
    "    sorted_pvals = np.sort(p_1d) # sort p-values\n",
    "    N = len(sorted_pvals) # sample size\n",
    "    \n",
    "    fdr_criteria = alpha * (np.arange(1, N+1) / N) # the diagonal line of criteria\n",
    "    pvals_less_than_fdr_criteria = np.where(sorted_pvals < fdr_criteria)[0]\n",
    "    \n",
    "    if len(pvals_less_than_fdr_criteria) > 0: #if any p-values satisfy the FDR criteria\n",
    "        # index of the largest p-value still under the fdr_criteria line.\n",
    "        largest_p_less_than_criteria = pvals_less_than_fdr_criteria[-1]\n",
    "        # the p-value for controlling the FDR\n",
    "        p_fdr = sorted_pvals[largest_p_less_than_criteria] \n",
    "    else:\n",
    "        p_fdr = -1 # abritrary number < 0. Ensures no significant results.\n",
    "    \n",
    "    # massage data into binary indicators of FDR significance\n",
    "    keep_signif = p_values_da.where(p_values_da <= p_fdr, -999)\n",
    "    signif_da = keep_signif.where(keep_signif == -999, 1)\n",
    "    signif_da = signif_da.where(signif_da == 1, 0)\n",
    "    \n",
    "    return signif_da.where(p_values_da.notnull(), np.nan) #, sorted_pvals, fdr_criteria"
   ]
  },
  {
   "cell_type": "markdown",
   "id": "3b549eb3-c37d-4721-abff-f12d4279bcaa",
   "metadata": {},
   "source": [
    "### Land mask\n",
    "\n",
    "Need a mask to remove ocean cells as we don't test these."
   ]
  },
  {
   "cell_type": "code",
   "execution_count": null,
   "id": "e26be27c-47ca-4e8e-94b6-e6e87b7a7d2a",
   "metadata": {},
   "outputs": [],
   "source": [
    "mask = regionmask.defined_regions.natural_earth_v5_0_0.land_110.mask(\n",
    "    aus_events_both_seasonal_total[\"lon\"],\n",
    "    aus_events_both_seasonal_total[\"lat\"]\n",
    ")"
   ]
  },
  {
   "cell_type": "markdown",
   "id": "99cb55a7-38ca-46c1-84f3-a313429c9445",
   "metadata": {},
   "source": [
    "### Write SAM compound results to file"
   ]
  },
  {
   "cell_type": "code",
   "execution_count": null,
   "id": "fab0951b-94ee-4577-8484-9d3bd19f8c4a",
   "metadata": {},
   "outputs": [],
   "source": [
    "# sam_compound = event_diff(aus_events_both_seasonal_total, sam[\"sam\"], \"Winter\")"
   ]
  },
  {
   "cell_type": "code",
   "execution_count": null,
   "id": "e6c3b3d1-5397-464a-b9c9-7f17ee7929b5",
   "metadata": {},
   "outputs": [],
   "source": [
    "# sam_compound.to_dataset(name=\"events\").to_netcdf(\"/g/data/w42/dr6273/work/project_demo/SAM_compound_freq.nc\")"
   ]
  },
  {
   "cell_type": "markdown",
   "id": "351d301a-2fcb-4a3b-9694-fa4f08b45626",
   "metadata": {},
   "source": [
    "### Plot"
   ]
  },
  {
   "cell_type": "code",
   "execution_count": null,
   "id": "5ad453cf-dfb8-4efb-90b9-ff5e86e6f20b",
   "metadata": {},
   "outputs": [],
   "source": [
    "def plot_mode_diff(ax, event_da, mode_da, season, scale, vmin, vmax, label, signif=False, rasterized=True):\n",
    "    \"\"\"\n",
    "    Plot difference in mean event frequency between positive\n",
    "    and negative phases of a climate mode.\n",
    "    \"\"\"\n",
    "    ax.set_extent([112, 155, -10, -44])\n",
    "    ax.add_feature(\n",
    "        cartopy.feature.NaturalEarthFeature(\n",
    "            category='cultural',\n",
    "            name='admin_1_states_provinces',\n",
    "            scale='10m'\n",
    "        ),\n",
    "        facecolor='none',\n",
    "        edgecolor='k',\n",
    "        lw=.1,\n",
    "        rasterized=rasterized\n",
    "    )\n",
    "    ax.add_feature(\n",
    "        cartopy.feature.OCEAN, facecolor='white', zorder=1, rasterized=rasterized\n",
    "    )\n",
    "    ax.coastlines(lw=.3, rasterized=rasterized, zorder=2)\n",
    "    \n",
    "    diff = event_diff(event_da, mode_da, season, scale)\n",
    "        \n",
    "    # Set cmap limits and ensure cbar extends correctly\n",
    "    p_min = diff.min().values\n",
    "    p_max = diff.max().values\n",
    "    \n",
    "    if (p_min < vmin) & (p_max <= vmax):\n",
    "        cbar_extend = 'min'\n",
    "    elif (p_min < vmin) & (p_max > vmax):\n",
    "        cbar_extend = 'both'\n",
    "    elif (p_min >= vmin) & (p_max <= vmax):\n",
    "        cbar_extend = 'neither'\n",
    "    elif (p_min >= vmin) * (p_max > vmax):\n",
    "        cbar_extend = 'max'\n",
    "    else:\n",
    "        raise ValueError('Something weird happening with vmin/vmax')\n",
    "        \n",
    "    cbar_kwargs = {'extend': cbar_extend, 'label': label}\n",
    "    \n",
    "    diff.plot(cmap='RdBu_r', vmin=vmin, vmax=vmax, cbar_kwargs=cbar_kwargs, rasterized=rasterized, zorder=0)\n",
    "    \n",
    "    if signif:\n",
    "        # Permutation test\n",
    "        pvals = permutation(\n",
    "            event_da.chunk(),\n",
    "            mode_da,\n",
    "            season,\n",
    "            n_iter=5000\n",
    "        )\n",
    "        \n",
    "        # False Discovery Rate\n",
    "        # Test has been run on ocean grid cells, but we don't want these,\n",
    "        # so first apply a mask to ensure ocean tests contribute to FDR\n",
    "        pvals_masked = pvals.where(mask == 0)\n",
    "        p_fdr = fdr(pvals_masked)\n",
    "        \n",
    "        # Plot\n",
    "        # p_fdr.plot.contour(colors=\"k\", levels=[-1e-6, 1e-6], zorder=0, linewidths=0.7)\n",
    "        fdr_da = xr.where(p_fdr == 1, 1, np.nan).values\n",
    "        cyclic_fdr, cyclic_lon = add_cyclic_point(fdr_da, coord=p_fdr.lon)\n",
    "        ax.pcolor(cyclic_lon, p_fdr.lat, cyclic_fdr,\n",
    "                  hatch='//', shading='auto', alpha=0, rasterized=False,\n",
    "                 zorder=0)\n",
    "        \n",
    "    ax.set_title('')\n",
    "    \n",
    "    if signif:\n",
    "        return pvals"
   ]
  },
  {
   "cell_type": "markdown",
   "id": "c2c64997-3392-4d03-9bb1-ff075cf5f31c",
   "metadata": {},
   "source": [
    "# Fig of mode hists and mode-phase event differences"
   ]
  },
  {
   "cell_type": "code",
   "execution_count": null,
   "id": "cf7e8a2b-f1a1-4ff7-b44b-0433bbc6d46e",
   "metadata": {},
   "outputs": [],
   "source": [
    "def fig_mode_pdf_and_diff(\n",
    "    mode_xmins,\n",
    "    events_list,\n",
    "    season,\n",
    "    scale,\n",
    "    dividers,\n",
    "    cbar_label='Number of\\ndroughts [days]',\n",
    "    signif=False,\n",
    "    save_fig=False\n",
    "):\n",
    "    \"\"\"\n",
    "    Plot mode PDFs and diff maps for this season.\n",
    "    \"\"\"\n",
    "    with plt.rc_context(plt_params):\n",
    "        fig = plt.figure(dpi=100, figsize=(6, 5.5)) \n",
    "    \n",
    "        # ===================== Mode PDFs\n",
    "        mode_list = [nino34['nino34'], dmi['dmi'], sam['sam']]\n",
    "        mode_names = ['ENSO', 'IOD', 'SAM']\n",
    "        xlabels = [r'Ni$\\mathrm{\\tilde{n}}$o3.4 [$^{\\circ}$C]',\n",
    "                   r'DMI [$^{\\circ}$C]',\n",
    "                   'SAM index [-]']\n",
    "        xmins = mode_xmins\n",
    "        xmaxs = [-1 * i for i in xmins]\n",
    "        \n",
    "        # gs = fig.add_gridspec(nrows=1, ncols=3, left=0, right=1, bottom=0.85, top=1)\n",
    "                \n",
    "        count = 0\n",
    "        for i, (mode, name, xlabel, xmin, xmax) in enumerate(zip(\n",
    "            mode_list,\n",
    "            mode_names,\n",
    "            xlabels,\n",
    "            xmins,\n",
    "            xmaxs\n",
    "        )):\n",
    "            gs = fig.add_gridspec(nrows=1, ncols=1,\n",
    "                                  left=0.0 + (0.35 * i), right=0.25 + (0.35 * i),\n",
    "                                  bottom=0.85, top=1)\n",
    "            ax = plt.subplot(gs[0])\n",
    "            s = mode_hist(\n",
    "                ax,\n",
    "                [season_mssrd, season_100w, season_100w_mssrd],\n",
    "                mode,\n",
    "                season,\n",
    "                thresh_spatial,\n",
    "                xmin,\n",
    "                xmax,\n",
    "                nbins=15\n",
    "            )\n",
    "            label = '(' + letters[count] + ') '\n",
    "            ax.text(0.035, 0.85, label, transform=ax.transAxes)\n",
    "            ax.set_title(name)\n",
    "            ax.set_xlabel(xlabel)\n",
    "            if i == 2:\n",
    "                ax.set_ylabel('Density [-]')\n",
    "                ax.legend(loc=(1.01, 0), frameon=False)\n",
    "            else:\n",
    "                ax.set_ylabel(r'Density [$^{\\circ}$C$^{-1}$]')\n",
    "\n",
    "            count += 1\n",
    "        # =================== Difference plots\n",
    "        for i, (name, event_da, divider) in enumerate(zip(\n",
    "            ['Solar', 'Wind', 'Compound'],\n",
    "            events_list,\n",
    "            dividers,\n",
    "        )):\n",
    "            gs = fig.add_gridspec(nrows=1, ncols=3, left=0, right=1, bottom=0.5 - (0.25 * i), top=0.73 - (0.25 * i))\n",
    "            \n",
    "            for j, (mode_da, title) in enumerate(zip(\n",
    "                mode_list,\n",
    "                [r'ENSO$^{+} - $ENSO$^{-}$', r'IOD$^{+} - $IOD$^{-}$', r'SAM$^{+} - $SAM$^{-}$']\n",
    "            )):\n",
    "                if count in [5, 8, 11]:\n",
    "                    label = cbar_label\n",
    "                else:\n",
    "                    label = ''\n",
    "\n",
    "                ax = plt.subplot(gs[j], projection=ccrs.PlateCarree())\n",
    "                ax.text(0.03, 0.9, '(' + letters[count] + ')', transform=ax.transAxes)\n",
    "                \n",
    "                vmin_scaled = -10 / divider\n",
    "                vmax_scaled = 10 / divider\n",
    "                    \n",
    "                plot_mode_diff(\n",
    "                    ax,\n",
    "                    event_da,\n",
    "                    mode_da,\n",
    "                    season,\n",
    "                    scale,\n",
    "                    vmin_scaled,\n",
    "                    vmax_scaled,\n",
    "                    label,\n",
    "                    signif\n",
    "                )\n",
    "            \n",
    "                if j == 0:\n",
    "                    ax.text(-0.15, 0.5, name, rotation=90, va='center', transform=ax.transAxes)\n",
    "\n",
    "                if i == 0:\n",
    "                    ax.set_title(title)\n",
    "                    \n",
    "                count += 1\n",
    "                \n",
    "        if save_fig:\n",
    "            if signif:\n",
    "                plt.savefig('./figures/Fig4_modes_'+season+'_signif_perm.pdf', format='pdf', dpi=400, bbox_inches='tight')\n",
    "            else:\n",
    "                plt.savefig('./figures/Fig4_modes_'+season+'.pdf', format='pdf', dpi=400, bbox_inches='tight')"
   ]
  },
  {
   "cell_type": "code",
   "execution_count": null,
   "id": "d4df3900-46b0-46c7-8b46-a34f5bea585f",
   "metadata": {},
   "outputs": [],
   "source": [
    "fig_mode_pdf_and_diff(\n",
    "    [-2.5, -1, -5],\n",
    "    [\n",
    "    aus_events_mssrd_seasonal_total,\n",
    "    aus_events_100w_seasonal_total,\n",
    "    aus_events_both_seasonal_total\n",
    "], 'Winter', scale=None, dividers=[1, 1, 1], signif=False, save_fig=True)"
   ]
  },
  {
   "cell_type": "code",
   "execution_count": null,
   "id": "dd3a7844-c6db-4906-9a27-bd58b8d0c09e",
   "metadata": {},
   "outputs": [],
   "source": [
    "# fig_mode_pdf_and_diff(\n",
    "#     [-2.5, -1, -5],\n",
    "#     [\n",
    "#     aus_events_mssrd_seasonal_total,\n",
    "#     aus_events_100w_seasonal_total,\n",
    "#     aus_events_both_seasonal_total\n",
    "# ], 'Winter', scale=None, dividers=[1, 1, 1], signif=True, save_fig=True)"
   ]
  },
  {
   "cell_type": "code",
   "execution_count": null,
   "id": "0f992a3b-d333-4bcc-bcfb-2cf9f728fa4c",
   "metadata": {},
   "outputs": [],
   "source": [
    "fig_mode_pdf_and_diff(\n",
    "    [-2.5, -1, -5],\n",
    "    [\n",
    "    aus_events_mssrd_seasonal_total,\n",
    "    aus_events_100w_seasonal_total,\n",
    "    aus_events_both_seasonal_total\n",
    "], 'Spring', scale=None, dividers=[1, 1, 2], signif=False, save_fig=True)"
   ]
  },
  {
   "cell_type": "code",
   "execution_count": null,
   "id": "4ff3b914-f35f-4d41-91c9-ac6c1bdf8b86",
   "metadata": {},
   "outputs": [],
   "source": [
    "# fig_mode_pdf_and_diff(\n",
    "#     [-2.5, -1, -5],\n",
    "#     [\n",
    "#     aus_events_mssrd_seasonal_total,\n",
    "#     aus_events_100w_seasonal_total,\n",
    "#     aus_events_both_seasonal_total\n",
    "# ], 'Spring', scale=None, dividers=[1, 1, 2], signif=True, save_fig=True)"
   ]
  },
  {
   "cell_type": "code",
   "execution_count": null,
   "id": "c2285aa3-0aed-4a58-b58a-03543b9a5ec2",
   "metadata": {},
   "outputs": [],
   "source": [
    "fig_mode_pdf_and_diff(\n",
    "    [-2.5, -1, -5],\n",
    "    [\n",
    "    aus_events_mssrd_seasonal_total,\n",
    "    aus_events_100w_seasonal_total,\n",
    "    aus_events_both_seasonal_total\n",
    "], 'Summer', scale=None, dividers=[1, 1, 2], signif=False, save_fig=True)"
   ]
  },
  {
   "cell_type": "code",
   "execution_count": null,
   "id": "c3a3bc64-0e8d-4554-b1d1-e112ba3b7f98",
   "metadata": {},
   "outputs": [],
   "source": [
    "# fig_mode_pdf_and_diff(\n",
    "#     [-2.5, -1, -5],\n",
    "#     [\n",
    "#     aus_events_mssrd_seasonal_total,\n",
    "#     aus_events_100w_seasonal_total,\n",
    "#     aus_events_both_seasonal_total\n",
    "# ], 'Summer', scale=None, dividers=[1, 1, 2], signif=True, save_fig=True)"
   ]
  },
  {
   "cell_type": "code",
   "execution_count": null,
   "id": "a14ffb09-671b-4d85-b300-ff92150dd932",
   "metadata": {},
   "outputs": [],
   "source": [
    "fig_mode_pdf_and_diff(\n",
    "    [-2.5, -1, -5],\n",
    "    [\n",
    "    aus_events_mssrd_seasonal_total,\n",
    "    aus_events_100w_seasonal_total,\n",
    "    aus_events_both_seasonal_total\n",
    "], 'Autumn', scale=None, dividers=[1, 1, 2], signif=False, save_fig=True)"
   ]
  },
  {
   "cell_type": "code",
   "execution_count": null,
   "id": "3aad090f-d214-4074-9e8e-5c656f056573",
   "metadata": {},
   "outputs": [],
   "source": [
    "# fig_mode_pdf_and_diff(\n",
    "#     [-2.5, -1, -5],\n",
    "#     [\n",
    "#     aus_events_mssrd_seasonal_total,\n",
    "#     aus_events_100w_seasonal_total,\n",
    "#     aus_events_both_seasonal_total\n",
    "# ], 'Autumn', scale=None, dividers=[1, 1, 2], signif=True, save_fig=True)"
   ]
  },
  {
   "cell_type": "markdown",
   "id": "36f4a588-764a-428d-91c4-ec28add4a55f",
   "metadata": {},
   "source": [
    "# Non-rasterized fig for poster"
   ]
  },
  {
   "cell_type": "code",
   "execution_count": null,
   "id": "2deea15e-56ef-47fa-824f-56636ff8eaae",
   "metadata": {},
   "outputs": [],
   "source": [
    "def fig_mode_pdf_and_diff(\n",
    "    mode_xmins,\n",
    "    events_list,\n",
    "    season,\n",
    "    scale,\n",
    "    dividers,\n",
    "    rasterized=True,\n",
    "    cbar_label='Number of\\ndroughts [days]',\n",
    "    signif=False,\n",
    "    save_fig=False\n",
    "):\n",
    "    \"\"\"\n",
    "    Plot mode PDFs and diff maps for this season.\n",
    "    \"\"\"\n",
    "    with plt.rc_context(plt_params):\n",
    "        fig = plt.figure(dpi=100, figsize=(6, 5.5)) \n",
    "    \n",
    "        # ===================== Mode PDFs\n",
    "        mode_list = [nino34['nino34'], dmi['dmi'], sam['sam']]\n",
    "        mode_names = ['ENSO', 'IOD', 'SAM']\n",
    "        xlabels = [r'Ni$\\mathrm{\\tilde{n}}$o3.4 [$^{\\circ}$C]',\n",
    "                   r'DMI [$^{\\circ}$C]',\n",
    "                   'SAM index [-]']\n",
    "        xmins = mode_xmins\n",
    "        xmaxs = [-1 * i for i in xmins]\n",
    "        \n",
    "        # gs = fig.add_gridspec(nrows=1, ncols=3, left=0, right=1, bottom=0.85, top=1)\n",
    "                \n",
    "        count = 0\n",
    "        for i, (mode, name, xlabel, xmin, xmax) in enumerate(zip(\n",
    "            mode_list,\n",
    "            mode_names,\n",
    "            xlabels,\n",
    "            xmins,\n",
    "            xmaxs\n",
    "        )):\n",
    "            gs = fig.add_gridspec(nrows=1, ncols=1,\n",
    "                                  left=0.0 + (0.35 * i), right=0.25 + (0.35 * i),\n",
    "                                  bottom=0.85, top=1)\n",
    "            ax = plt.subplot(gs[0])\n",
    "            s = mode_hist(\n",
    "                ax,\n",
    "                [season_mssrd, season_100w, season_100w_mssrd],\n",
    "                mode,\n",
    "                season,\n",
    "                thresh_spatial,\n",
    "                xmin,\n",
    "                xmax,\n",
    "                nbins=15\n",
    "            )\n",
    "            label = '(' + letters[count] + ') '\n",
    "            ax.text(0.035, 0.85, label, transform=ax.transAxes)\n",
    "            ax.set_title(name)\n",
    "            ax.set_xlabel(xlabel)\n",
    "            if i == 2:\n",
    "                ax.set_ylabel('Density [-]')\n",
    "                ax.legend(loc=(1.01, 0), frameon=False)\n",
    "            else:\n",
    "                ax.set_ylabel(r'Density [$^{\\circ}$C$^{-1}$]')\n",
    "\n",
    "            count += 1\n",
    "        # =================== Difference plots\n",
    "        for i, (name, event_da, divider) in enumerate(zip(\n",
    "            ['Solar', 'Wind', 'Compound'],\n",
    "            events_list,\n",
    "            dividers,\n",
    "        )):\n",
    "            gs = fig.add_gridspec(nrows=1, ncols=3, left=0, right=1, bottom=0.5 - (0.25 * i), top=0.73 - (0.25 * i))\n",
    "            \n",
    "            for j, (mode_da, title) in enumerate(zip(\n",
    "                mode_list,\n",
    "                [r'ENSO$^{+} - $ENSO$^{-}$', r'IOD$^{+} - $IOD$^{-}$', r'SAM$^{+} - $SAM$^{-}$']\n",
    "            )):\n",
    "                if count in [5, 8, 11]:\n",
    "                    label = cbar_label\n",
    "                else:\n",
    "                    label = ''\n",
    "\n",
    "                ax = plt.subplot(gs[j], projection=ccrs.PlateCarree())\n",
    "                ax.text(0.03, 0.9, '(' + letters[count] + ')', transform=ax.transAxes)\n",
    "                \n",
    "                vmin_scaled = -10 / divider\n",
    "                vmax_scaled = 10 / divider\n",
    "                    \n",
    "                plot_mode_diff(\n",
    "                    ax,\n",
    "                    event_da,\n",
    "                    mode_da,\n",
    "                    season,\n",
    "                    scale,\n",
    "                    vmin_scaled,\n",
    "                    vmax_scaled,\n",
    "                    label,\n",
    "                    signif,\n",
    "                    rasterized\n",
    "                )\n",
    "            \n",
    "                if j == 0:\n",
    "                    ax.text(-0.15, 0.5, name, rotation=90, va='center', transform=ax.transAxes)\n",
    "\n",
    "                if i == 0:\n",
    "                    ax.set_title(title)\n",
    "                    \n",
    "                count += 1\n",
    "                \n",
    "        if save_fig:\n",
    "            if signif:\n",
    "                plt.savefig('../tmp/Fig4_modes_'+season+'_signif_perm.pdf', format='pdf', dpi=400, bbox_inches='tight')\n",
    "            else:\n",
    "                plt.savefig('../tmp/Fig4_modes_'+season+'.pdf', format='pdf', dpi=400, bbox_inches='tight')"
   ]
  },
  {
   "cell_type": "code",
   "execution_count": null,
   "id": "4c44b019-af59-48f4-8822-1046893f3281",
   "metadata": {},
   "outputs": [],
   "source": [
    "fig_mode_pdf_and_diff(\n",
    "    [-2.5, -1, -5],\n",
    "    [\n",
    "    aus_events_mssrd_seasonal_total,\n",
    "    aus_events_100w_seasonal_total,\n",
    "    aus_events_both_seasonal_total\n",
    "], 'Winter', scale=None, dividers=[1, 1, 1], signif=False, save_fig=True, rasterized=False)"
   ]
  },
  {
   "cell_type": "markdown",
   "id": "48959f64-80cb-4b1c-bbc2-56cd7f3399db",
   "metadata": {},
   "source": [
    "# Close cluster"
   ]
  },
  {
   "cell_type": "code",
   "execution_count": null,
   "id": "9a4e0e4b-0e27-4ac4-985a-2f3304190316",
   "metadata": {},
   "outputs": [],
   "source": [
    "client.close()\n",
    "cluster.close()"
   ]
  },
  {
   "cell_type": "code",
   "execution_count": null,
   "id": "73ec1d19-4f56-47b1-aba7-1c7dea686df8",
   "metadata": {},
   "outputs": [],
   "source": []
  }
 ],
 "metadata": {
  "kernelspec": {
   "display_name": "Python (pangeo)",
   "language": "python",
   "name": "pangeo"
  },
  "language_info": {
   "codemirror_mode": {
    "name": "ipython",
    "version": 3
   },
   "file_extension": ".py",
   "mimetype": "text/x-python",
   "name": "python",
   "nbconvert_exporter": "python",
   "pygments_lexer": "ipython3",
   "version": "3.10.8"
  }
 },
 "nbformat": 4,
 "nbformat_minor": 5
}
