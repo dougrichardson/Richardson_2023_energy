{
 "cells": [
  {
   "cell_type": "markdown",
   "id": "53bd9f15-3858-4e2e-a881-5ff941b82fcb",
   "metadata": {},
   "source": [
    "# Subset surface climate data for eastern Australia"
   ]
  },
  {
   "cell_type": "code",
   "execution_count": 1,
   "id": "989d58d8-6f0f-41a0-b3d7-6d34679b4ea3",
   "metadata": {},
   "outputs": [],
   "source": [
    "from dask.distributed import Client,LocalCluster\n",
    "from dask_jobqueue import PBSCluster"
   ]
  },
  {
   "cell_type": "code",
   "execution_count": 2,
   "id": "b38cb55d-1901-4c0b-9532-7c07eaf8595a",
   "metadata": {},
   "outputs": [],
   "source": [
    "# One node on Gadi has 48 cores - try and use up a full node before going to multiple nodes (jobs)\n",
    "\n",
    "walltime = '00:30:00'\n",
    "cores = 48\n",
    "memory = str(4 * cores) + 'GB'\n",
    "\n",
    "cluster = PBSCluster(walltime=str(walltime), cores=cores, memory=str(memory), processes=cores,\n",
    "                     job_extra_directives=['-q normal',\n",
    "                                           '-P w42',\n",
    "                                           '-l ncpus='+str(cores),\n",
    "                                           '-l mem='+str(memory),\n",
    "                                           '-l storage=gdata/w42+gdata/rt52'],\n",
    "                     local_directory='$TMPDIR',\n",
    "                     job_directives_skip=[\"select\"])\n",
    "                     # python=os.environ[\"DASK_PYTHON\"])"
   ]
  },
  {
   "cell_type": "code",
   "execution_count": 3,
   "id": "ef809782-71e5-4de4-8434-e7ea5f8a8682",
   "metadata": {},
   "outputs": [],
   "source": [
    "cluster.scale(jobs=3)\n",
    "client = Client(cluster)"
   ]
  },
  {
   "cell_type": "code",
   "execution_count": 4,
   "id": "328919e6-e451-4de4-a911-b793f0eaa85f",
   "metadata": {},
   "outputs": [
    {
     "data": {
      "text/html": [
       "<div>\n",
       "    <div style=\"width: 24px; height: 24px; background-color: #e1e1e1; border: 3px solid #9D9D9D; border-radius: 5px; position: absolute;\"> </div>\n",
       "    <div style=\"margin-left: 48px;\">\n",
       "        <h3 style=\"margin-bottom: 0px;\">Client</h3>\n",
       "        <p style=\"color: #9D9D9D; margin-bottom: 0px;\">Client-d258a55c-d281-11ed-bdba-00000082fe80</p>\n",
       "        <table style=\"width: 100%; text-align: left;\">\n",
       "\n",
       "        <tr>\n",
       "        \n",
       "            <td style=\"text-align: left;\"><strong>Connection method:</strong> Cluster object</td>\n",
       "            <td style=\"text-align: left;\"><strong>Cluster type:</strong> dask_jobqueue.PBSCluster</td>\n",
       "        \n",
       "        </tr>\n",
       "\n",
       "        \n",
       "            <tr>\n",
       "                <td style=\"text-align: left;\">\n",
       "                    <strong>Dashboard: </strong> <a href=\"http://10.6.65.42:8787/status\" target=\"_blank\">http://10.6.65.42:8787/status</a>\n",
       "                </td>\n",
       "                <td style=\"text-align: left;\"></td>\n",
       "            </tr>\n",
       "        \n",
       "\n",
       "        </table>\n",
       "\n",
       "        \n",
       "            <button style=\"margin-bottom: 12px;\" data-commandlinker-command=\"dask:populate-and-launch-layout\" data-commandlinker-args='{\"url\": \"http://10.6.65.42:8787/status\" }'>\n",
       "                Launch dashboard in JupyterLab\n",
       "            </button>\n",
       "        \n",
       "\n",
       "        \n",
       "            <details>\n",
       "            <summary style=\"margin-bottom: 20px;\"><h3 style=\"display: inline;\">Cluster Info</h3></summary>\n",
       "            <div class=\"jp-RenderedHTMLCommon jp-RenderedHTML jp-mod-trusted jp-OutputArea-output\">\n",
       "    <div style=\"width: 24px; height: 24px; background-color: #e1e1e1; border: 3px solid #9D9D9D; border-radius: 5px; position: absolute;\">\n",
       "    </div>\n",
       "    <div style=\"margin-left: 48px;\">\n",
       "        <h3 style=\"margin-bottom: 0px; margin-top: 0px;\">PBSCluster</h3>\n",
       "        <p style=\"color: #9D9D9D; margin-bottom: 0px;\">5aaf0414</p>\n",
       "        <table style=\"width: 100%; text-align: left;\">\n",
       "            <tr>\n",
       "                <td style=\"text-align: left;\">\n",
       "                    <strong>Dashboard:</strong> <a href=\"http://10.6.65.42:8787/status\" target=\"_blank\">http://10.6.65.42:8787/status</a>\n",
       "                </td>\n",
       "                <td style=\"text-align: left;\">\n",
       "                    <strong>Workers:</strong> 0\n",
       "                </td>\n",
       "            </tr>\n",
       "            <tr>\n",
       "                <td style=\"text-align: left;\">\n",
       "                    <strong>Total threads:</strong> 0\n",
       "                </td>\n",
       "                <td style=\"text-align: left;\">\n",
       "                    <strong>Total memory:</strong> 0 B\n",
       "                </td>\n",
       "            </tr>\n",
       "            \n",
       "        </table>\n",
       "\n",
       "        <details>\n",
       "            <summary style=\"margin-bottom: 20px;\">\n",
       "                <h3 style=\"display: inline;\">Scheduler Info</h3>\n",
       "            </summary>\n",
       "\n",
       "            <div style=\"\">\n",
       "    <div>\n",
       "        <div style=\"width: 24px; height: 24px; background-color: #FFF7E5; border: 3px solid #FF6132; border-radius: 5px; position: absolute;\"> </div>\n",
       "        <div style=\"margin-left: 48px;\">\n",
       "            <h3 style=\"margin-bottom: 0px;\">Scheduler</h3>\n",
       "            <p style=\"color: #9D9D9D; margin-bottom: 0px;\">Scheduler-96df8e43-dc89-4a44-8572-bec72db1e3dd</p>\n",
       "            <table style=\"width: 100%; text-align: left;\">\n",
       "                <tr>\n",
       "                    <td style=\"text-align: left;\">\n",
       "                        <strong>Comm:</strong> tcp://10.6.65.42:34623\n",
       "                    </td>\n",
       "                    <td style=\"text-align: left;\">\n",
       "                        <strong>Workers:</strong> 0\n",
       "                    </td>\n",
       "                </tr>\n",
       "                <tr>\n",
       "                    <td style=\"text-align: left;\">\n",
       "                        <strong>Dashboard:</strong> <a href=\"http://10.6.65.42:8787/status\" target=\"_blank\">http://10.6.65.42:8787/status</a>\n",
       "                    </td>\n",
       "                    <td style=\"text-align: left;\">\n",
       "                        <strong>Total threads:</strong> 0\n",
       "                    </td>\n",
       "                </tr>\n",
       "                <tr>\n",
       "                    <td style=\"text-align: left;\">\n",
       "                        <strong>Started:</strong> Just now\n",
       "                    </td>\n",
       "                    <td style=\"text-align: left;\">\n",
       "                        <strong>Total memory:</strong> 0 B\n",
       "                    </td>\n",
       "                </tr>\n",
       "            </table>\n",
       "        </div>\n",
       "    </div>\n",
       "\n",
       "    <details style=\"margin-left: 48px;\">\n",
       "        <summary style=\"margin-bottom: 20px;\">\n",
       "            <h3 style=\"display: inline;\">Workers</h3>\n",
       "        </summary>\n",
       "\n",
       "        \n",
       "\n",
       "    </details>\n",
       "</div>\n",
       "\n",
       "        </details>\n",
       "    </div>\n",
       "</div>\n",
       "            </details>\n",
       "        \n",
       "\n",
       "    </div>\n",
       "</div>"
      ],
      "text/plain": [
       "<Client: 'tcp://10.6.65.42:34623' processes=0 threads=0, memory=0 B>"
      ]
     },
     "execution_count": 4,
     "metadata": {},
     "output_type": "execute_result"
    }
   ],
   "source": [
    "client"
   ]
  },
  {
   "cell_type": "code",
   "execution_count": 5,
   "id": "982e9798-ad38-4939-9b61-badb909abe1e",
   "metadata": {},
   "outputs": [],
   "source": [
    "# client.close()\n",
    "# cluster.close()"
   ]
  },
  {
   "cell_type": "code",
   "execution_count": 6,
   "id": "375f0cc2-0abe-455b-8f44-78a96a7008b4",
   "metadata": {},
   "outputs": [],
   "source": [
    "# %load_ext autoreload\n",
    "# %autoreload 2"
   ]
  },
  {
   "cell_type": "code",
   "execution_count": 7,
   "id": "0d10b389-e6d7-4d15-8ae1-423e09a5248b",
   "metadata": {},
   "outputs": [],
   "source": [
    "import xarray as xr\n",
    "import numpy as np"
   ]
  },
  {
   "cell_type": "code",
   "execution_count": 8,
   "id": "ff71d308-6e19-4705-947b-3b32f4f061ae",
   "metadata": {},
   "outputs": [],
   "source": [
    "import functions as fn"
   ]
  },
  {
   "cell_type": "code",
   "execution_count": 9,
   "id": "5953b97a-a02c-4832-ae59-0001a4e47ae3",
   "metadata": {},
   "outputs": [],
   "source": [
    "rez_region = {\n",
    "    'name': 'REZ',\n",
    "    'boundary': fn.get_REZ_boundary()\n",
    "}\n",
    "aus_region = {\n",
    "    'name': 'AUS',\n",
    "    'boundary': [112, 155, -10, -45]\n",
    "}"
   ]
  },
  {
   "cell_type": "markdown",
   "id": "bd943ce4-f745-4cc0-84ee-76480aff8452",
   "metadata": {},
   "source": [
    "# ERA5"
   ]
  },
  {
   "cell_type": "code",
   "execution_count": 10,
   "id": "bf0cc28d-9b97-4863-a544-0ceb33e70c57",
   "metadata": {},
   "outputs": [],
   "source": [
    "years = range(1959, 2022)"
   ]
  },
  {
   "cell_type": "code",
   "execution_count": 11,
   "id": "5302c172-300b-4ff1-a26b-0598a9fa4d0f",
   "metadata": {},
   "outputs": [],
   "source": [
    "root_path = '/g/data/rt52/era5/single-levels/'"
   ]
  },
  {
   "cell_type": "markdown",
   "id": "6be895a3-38c0-40bc-a0aa-e368b1d964e8",
   "metadata": {},
   "source": [
    "# Solar radiation"
   ]
  },
  {
   "cell_type": "markdown",
   "id": "0e803555-7f19-4fe4-9e2a-13c1c11d86bf",
   "metadata": {},
   "source": [
    "Ideally we would have `ssrd` [Joules m^-2]. However, NCI does not store this variable.\n",
    "\n",
    "Instead, (I think) we can use the Mean surface downward short-wave radiation flux `msdwswrf` [Watts m^-2]. This is the same as `ssrd` but expressed as a temporal average. In this case the average radiation per second over the hour.\n",
    "\n",
    "Links:\n",
    "\n",
    "- https://confluence.ecmwf.int/display/CKB/ERA5%3A+data+documentation#ERA5:datadocumentation-Table4\n",
    "- https://apps.ecmwf.int/codes/grib/param-db?id=169\n",
    "- https://apps.ecmwf.int/codes/grib/param-db?id=235035\n",
    "- https://www.ecmwf.int/sites/default/files/elibrary/2015/18490-radiation-quantities-ecmwf-model-and-mars.pdf"
   ]
  },
  {
   "cell_type": "code",
   "execution_count": 9,
   "id": "0eb1f255-c6a7-41bf-8dfb-3fa5764cdf0e",
   "metadata": {},
   "outputs": [],
   "source": [
    "mssrd = fn.open_era_data(\n",
    "    root_path=root_path+'reanalysis/',\n",
    "    variable='msdwswrf',\n",
    "    years=years,\n",
    "    subset_region=aus_region['boundary'],\n",
    "    rename_lon_lat=['lon', 'lat']\n",
    ")"
   ]
  },
  {
   "cell_type": "markdown",
   "id": "e48a2140-ab02-4179-8cef-21f331525c04",
   "metadata": {},
   "source": [
    "Check size of dataset (in GB)"
   ]
  },
  {
   "cell_type": "code",
   "execution_count": 20,
   "id": "a8ecd5dc-d7dd-4789-ba2b-d0763b8467b6",
   "metadata": {},
   "outputs": [
    {
     "data": {
      "text/plain": [
       "50.18762895464897"
      ]
     },
     "execution_count": 20,
     "metadata": {},
     "output_type": "execute_result"
    }
   ],
   "source": [
    "mssrd.nbytes / (1024 ** 3)"
   ]
  },
  {
   "cell_type": "markdown",
   "id": "69381fc6-1a07-45ed-b491-07bcd27979fa",
   "metadata": {},
   "source": [
    "Re-chunk to ~100Mb chunks."
   ]
  },
  {
   "cell_type": "code",
   "execution_count": 11,
   "id": "8bb10511-8cf4-46b5-be34-c7b42e50c177",
   "metadata": {},
   "outputs": [],
   "source": [
    "mssrd = mssrd.chunk({\n",
    "    'time': 24*90,\n",
    "    'lon': -1,\n",
    "    'lat': -1\n",
    "})"
   ]
  },
  {
   "cell_type": "markdown",
   "id": "c7989606-f1db-492e-9db1-93d4adc96bba",
   "metadata": {},
   "source": [
    "Save to zarr"
   ]
  },
  {
   "cell_type": "code",
   "execution_count": 12,
   "id": "7eabd0e4-18ba-4e1e-a6b1-fed86f37c38f",
   "metadata": {},
   "outputs": [],
   "source": [
    "mssrd_encoding = {\n",
    "    'msdwswrf': {\n",
    "        'dtype': 'float32'\n",
    "    }\n",
    "}"
   ]
  },
  {
   "cell_type": "code",
   "execution_count": 19,
   "id": "92be2acb-cb7f-4b8b-a738-ace3472547ef",
   "metadata": {},
   "outputs": [
    {
     "data": {
      "text/plain": [
       "<xarray.backends.zarr.ZarrStore at 0x14ee81f4aff0>"
      ]
     },
     "execution_count": 19,
     "metadata": {},
     "output_type": "execute_result"
    }
   ],
   "source": [
    "mssrd.to_zarr(\n",
    "    '/g/data/w42/dr6273/work/data/era5/msdwswrf/msdwswrf_era5_reanalysis_sfc_'+str(years[0])+'-'+str(years[-1])+'_'+aus_region['name']+'_region.zarr',\n",
    "    mode='w',\n",
    "    consolidated=True,\n",
    "    encoding=mssrd_encoding\n",
    ")"
   ]
  },
  {
   "cell_type": "markdown",
   "id": "d03ebbd9-445b-4865-88d6-cce55db42e70",
   "metadata": {},
   "source": [
    "### Compute daily averages"
   ]
  },
  {
   "cell_type": "markdown",
   "id": "ab3c6270-c1ea-4972-8a63-38c2ed986889",
   "metadata": {},
   "source": [
    "Do this using 24 hour rolling mean, then select all 1400 hour times (equivalent to 0000 eastern state time)"
   ]
  },
  {
   "cell_type": "code",
   "execution_count": 21,
   "id": "fc63aa1d-f120-4300-b6be-2f745e721797",
   "metadata": {},
   "outputs": [],
   "source": [
    "mssrd = xr.open_zarr(\n",
    "    '/g/data/w42/dr6273/work/data/era5/msdwswrf/msdwswrf_era5_reanalysis_sfc_'+str(years[0])+'-'+str(years[-1])+'_'+aus_region['name']+'_region.zarr',\n",
    "    consolidated=True\n",
    ")"
   ]
  },
  {
   "cell_type": "code",
   "execution_count": null,
   "id": "13f8bb2a-1301-4b7b-b2e6-d8a9218b62b4",
   "metadata": {},
   "outputs": [],
   "source": [
    "mssrd_1400 = fn.daily_mean_1400(mssrd)"
   ]
  },
  {
   "cell_type": "code",
   "execution_count": 22,
   "id": "3a4885ba-8a93-4c71-9ce0-53714088e82e",
   "metadata": {},
   "outputs": [],
   "source": [
    "# mssrd_24hr = mssrd.rolling(time=24).mean()"
   ]
  },
  {
   "cell_type": "code",
   "execution_count": 23,
   "id": "2080240f-97c8-40cc-a0dd-550a1685f4ba",
   "metadata": {},
   "outputs": [],
   "source": [
    "# mssrd_1400 = mssrd_24hr.isel(time=mssrd_24hr.time.dt.hour == 14)"
   ]
  },
  {
   "cell_type": "code",
   "execution_count": 24,
   "id": "fdb82e18-5103-46b4-8188-5a04d1b32fdb",
   "metadata": {},
   "outputs": [],
   "source": [
    "mssrd_1400 = mssrd_1400.chunk({'time': 365*6})"
   ]
  },
  {
   "cell_type": "code",
   "execution_count": 25,
   "id": "5d9fa01d-31c2-45d6-9224-ebf474fbe260",
   "metadata": {},
   "outputs": [
    {
     "data": {
      "text/plain": [
       "<xarray.backends.zarr.ZarrStore at 0x14ee7b904a50>"
      ]
     },
     "execution_count": 25,
     "metadata": {},
     "output_type": "execute_result"
    }
   ],
   "source": [
    "mssrd_1400.to_zarr(\n",
    "    '/g/data/w42/dr6273/work/data/era5/msdwswrf/msdwswrf_era5_daily_1400UTC_sfc_'+str(years[0])+'-'+str(years[-1])+'_'+aus_region['name']+'_region.zarr',\n",
    "    mode='w',\n",
    "    consolidated=True,\n",
    "    encoding=mssrd_encoding\n",
    ")"
   ]
  },
  {
   "cell_type": "markdown",
   "id": "07e2d914-4a91-4ef3-93cf-ee4e96f0219c",
   "metadata": {},
   "source": [
    "# Wind speed 100m"
   ]
  },
  {
   "cell_type": "markdown",
   "id": "9481fa86-dd13-4d4b-a5ff-562f951bc1a2",
   "metadata": {},
   "source": [
    "Calculate using $w = \\sqrt{u^2 + v^2}$"
   ]
  },
  {
   "cell_type": "code",
   "execution_count": 12,
   "id": "9094b319-2a7e-4364-be82-329d5e09a476",
   "metadata": {},
   "outputs": [],
   "source": [
    "u = fn.open_era_data(\n",
    "    root_path=root_path+'reanalysis/',\n",
    "    variable='100u',\n",
    "    years=years,\n",
    "    subset_region=aus_region['boundary'],\n",
    "    rename_lon_lat=['lon', 'lat']\n",
    ")"
   ]
  },
  {
   "cell_type": "code",
   "execution_count": 13,
   "id": "d8cc1b1c-b27c-40ee-8849-a3973b3264ee",
   "metadata": {},
   "outputs": [],
   "source": [
    "v = fn.open_era_data(\n",
    "    root_path=root_path+'reanalysis/',\n",
    "    variable='100v',\n",
    "    years=years,\n",
    "    subset_region=aus_region['boundary'],\n",
    "    rename_lon_lat=['lon', 'lat']\n",
    ")"
   ]
  },
  {
   "cell_type": "code",
   "execution_count": 28,
   "id": "2751fdfb-9967-4714-bfc9-31185d032bbf",
   "metadata": {},
   "outputs": [],
   "source": [
    "w = np.sqrt(u.rename({'u100': 'w100'})**2 + v.rename({'v100': 'w100'})**2)"
   ]
  },
  {
   "cell_type": "markdown",
   "id": "0992f1aa-ba04-43fc-ba28-27631d8350c4",
   "metadata": {},
   "source": [
    "Check size of dataset (in GB)"
   ]
  },
  {
   "cell_type": "code",
   "execution_count": 29,
   "id": "747cbaa0-c091-427a-b79c-004fc134eb7d",
   "metadata": {},
   "outputs": [
    {
     "data": {
      "text/plain": [
       "50.188901253044605"
      ]
     },
     "execution_count": 29,
     "metadata": {},
     "output_type": "execute_result"
    }
   ],
   "source": [
    "w.nbytes / (1024 ** 3)"
   ]
  },
  {
   "cell_type": "markdown",
   "id": "0ad645e1-99db-448e-986b-935fc0addc61",
   "metadata": {},
   "source": [
    "Re-chunk to ~100Mb chunks."
   ]
  },
  {
   "cell_type": "code",
   "execution_count": 14,
   "id": "3ada9c84-4280-4068-9f42-78844047c0cb",
   "metadata": {},
   "outputs": [],
   "source": [
    "u = u.chunk({\n",
    "    'time': 24*90,\n",
    "    'lon': -1,\n",
    "    'lat': -1\n",
    "})\n",
    "\n",
    "v = v.chunk({\n",
    "    'time': 24*90,\n",
    "    'lon': -1,\n",
    "    'lat': -1\n",
    "})"
   ]
  },
  {
   "cell_type": "code",
   "execution_count": 30,
   "id": "945789d4-6df7-4305-a830-c2c89ade4650",
   "metadata": {},
   "outputs": [],
   "source": [
    "w = w.chunk({\n",
    "    'time': 24*90,\n",
    "    'lon': -1,\n",
    "    'lat': -1\n",
    "})"
   ]
  },
  {
   "cell_type": "markdown",
   "id": "118a8c39-7ef7-48ae-b3a2-2c597163ad32",
   "metadata": {},
   "source": [
    "Save to zarr"
   ]
  },
  {
   "cell_type": "code",
   "execution_count": 15,
   "id": "a23f1116-83af-4019-b9f9-54cbcb50b8bb",
   "metadata": {},
   "outputs": [],
   "source": [
    "u_encoding = {\n",
    "    'u100': {\n",
    "        'dtype': 'float32'\n",
    "    }\n",
    "}\n",
    "v_encoding = {\n",
    "    'v100': {\n",
    "        'dtype': 'float32'\n",
    "    }\n",
    "}\n",
    "w_encoding = {\n",
    "    'w100': {\n",
    "        'dtype': 'float32'\n",
    "    }\n",
    "}"
   ]
  },
  {
   "cell_type": "code",
   "execution_count": 17,
   "id": "4aa9a29d-4659-489b-8eb5-28ab19401e50",
   "metadata": {},
   "outputs": [
    {
     "data": {
      "text/plain": [
       "<xarray.backends.zarr.ZarrStore at 0x14e3c0e49cb0>"
      ]
     },
     "execution_count": 17,
     "metadata": {},
     "output_type": "execute_result"
    }
   ],
   "source": [
    "u.to_zarr(\n",
    "    '/g/data/w42/dr6273/work/data/era5/100u/100u_era5_reanalysis_sfc_'+str(years[0])+'-'+str(years[-1])+'_'+aus_region['name']+'_region.zarr',\n",
    "    mode='w',\n",
    "    consolidated=True,\n",
    "    encoding=u_encoding\n",
    ")\n",
    "\n",
    "v.to_zarr(\n",
    "    '/g/data/w42/dr6273/work/data/era5/100v/100v_era5_reanalysis_sfc_'+str(years[0])+'-'+str(years[-1])+'_'+aus_region['name']+'_region.zarr',\n",
    "    mode='w',\n",
    "    consolidated=True,\n",
    "    encoding=v_encoding\n",
    ")"
   ]
  },
  {
   "cell_type": "code",
   "execution_count": 32,
   "id": "2b17f4a6-c49b-47c3-86f5-e5d12ace9dff",
   "metadata": {},
   "outputs": [
    {
     "data": {
      "text/plain": [
       "<xarray.backends.zarr.ZarrStore at 0x14ee7a3b0900>"
      ]
     },
     "execution_count": 32,
     "metadata": {},
     "output_type": "execute_result"
    }
   ],
   "source": [
    "w.to_zarr(\n",
    "    '/g/data/w42/dr6273/work/data/era5/100w/100w_era5_reanalysis_sfc_'+str(years[0])+'-'+str(years[-1])+'_'+aus_region['name']+'_region.zarr',\n",
    "    mode='w',\n",
    "    consolidated=True,\n",
    "    encoding=w_encoding\n",
    ")"
   ]
  },
  {
   "cell_type": "markdown",
   "id": "3a53e3c6-2013-44d0-8efa-6b8a51b5f0ff",
   "metadata": {},
   "source": [
    "### Compute daily averages"
   ]
  },
  {
   "cell_type": "markdown",
   "id": "8d1a33a6-33a4-48cf-a3a3-48dab087fd38",
   "metadata": {},
   "source": [
    "Do this using 24 hour rolling mean, then select all 1400 hour times (equivalent to 0000 eastern state time)"
   ]
  },
  {
   "cell_type": "code",
   "execution_count": 12,
   "id": "6d1a44c0-5cc4-439f-976c-10038d2a702c",
   "metadata": {},
   "outputs": [],
   "source": [
    "u = xr.open_zarr(\n",
    "    '/g/data/w42/dr6273/work/data/era5/100u/100u_era5_reanalysis_sfc_'+str(years[0])+'-'+str(years[-1])+'_'+aus_region['name']+'_region.zarr',\n",
    "    consolidated=True\n",
    ")\n",
    "v = xr.open_zarr(\n",
    "    '/g/data/w42/dr6273/work/data/era5/100v/100v_era5_reanalysis_sfc_'+str(years[0])+'-'+str(years[-1])+'_'+aus_region['name']+'_region.zarr',\n",
    "    consolidated=True\n",
    ")"
   ]
  },
  {
   "cell_type": "code",
   "execution_count": 24,
   "id": "c2e5f39b-6d0f-4b23-9825-e507e1f1fb7f",
   "metadata": {},
   "outputs": [],
   "source": [
    "w = xr.open_zarr(\n",
    "    '/g/data/w42/dr6273/work/data/era5/100w/100w_era5_reanalysis_sfc_'+str(years[0])+'-'+str(years[-1])+'_'+aus_region['name']+'_region.zarr',\n",
    "    consolidated=True\n",
    ")"
   ]
  },
  {
   "cell_type": "code",
   "execution_count": 13,
   "id": "c127aef8-8734-4357-aa3e-267192e6970c",
   "metadata": {},
   "outputs": [],
   "source": [
    "u_1400 = fn.daily_mean_1400(u)\n",
    "u_1400 = u_1400.chunk({'time': 365*6})\n",
    "\n",
    "v_1400 = fn.daily_mean_1400(v)\n",
    "v_1400 = v_1400.chunk({'time': 365*6})"
   ]
  },
  {
   "cell_type": "code",
   "execution_count": 25,
   "id": "fc8535ee-bf54-49b5-b042-1a46d946f5c4",
   "metadata": {},
   "outputs": [],
   "source": [
    "w_1400 = fn.daily_mean_1400(w)\n",
    "w_1400 = w_1400.chunk({'time': 365*6})"
   ]
  },
  {
   "cell_type": "code",
   "execution_count": 17,
   "id": "4ed9734b-2a92-43cd-b553-3767b6fa4f0a",
   "metadata": {},
   "outputs": [
    {
     "data": {
      "text/plain": [
       "<xarray.backends.zarr.ZarrStore at 0x14d841f7f680>"
      ]
     },
     "execution_count": 17,
     "metadata": {},
     "output_type": "execute_result"
    }
   ],
   "source": [
    "u_1400.to_zarr(\n",
    "    '/g/data/w42/dr6273/work/data/era5/100u/100u_era5_daily_1400UTC_sfc_'+str(years[0])+'-'+str(years[-1])+'_'+aus_region['name']+'_region.zarr',\n",
    "    mode='w',\n",
    "    consolidated=True,\n",
    "    encoding=u_encoding\n",
    ")"
   ]
  },
  {
   "cell_type": "code",
   "execution_count": 18,
   "id": "832e18de-6926-496a-8f82-d76eeedac262",
   "metadata": {},
   "outputs": [
    {
     "data": {
      "text/plain": [
       "<xarray.backends.zarr.ZarrStore at 0x14d84c1530d0>"
      ]
     },
     "execution_count": 18,
     "metadata": {},
     "output_type": "execute_result"
    }
   ],
   "source": [
    "v_1400.to_zarr(\n",
    "    '/g/data/w42/dr6273/work/data/era5/100v/100v_era5_daily_1400UTC_sfc_'+str(years[0])+'-'+str(years[-1])+'_'+aus_region['name']+'_region.zarr',\n",
    "    mode='w',\n",
    "    consolidated=True,\n",
    "    encoding=v_encoding\n",
    ")"
   ]
  },
  {
   "cell_type": "code",
   "execution_count": 28,
   "id": "d7e4cf8b-d6b2-4e22-8722-2cf38885b283",
   "metadata": {},
   "outputs": [
    {
     "data": {
      "text/plain": [
       "<xarray.backends.zarr.ZarrStore at 0x146d0e5dbca0>"
      ]
     },
     "execution_count": 28,
     "metadata": {},
     "output_type": "execute_result"
    }
   ],
   "source": [
    "w_1400.to_zarr(\n",
    "    '/g/data/w42/dr6273/work/data/era5/100w/100w_era5_daily_1400UTC_sfc_'+str(years[0])+'-'+str(years[-1])+'_'+aus_region['name']+'_region.zarr',\n",
    "    mode='w',\n",
    "    consolidated=True,\n",
    "    encoding=w_encoding\n",
    ")"
   ]
  },
  {
   "cell_type": "markdown",
   "id": "9312047a-9bb3-4528-a784-018af20d9618",
   "metadata": {},
   "source": [
    "# Temperature 2m"
   ]
  },
  {
   "cell_type": "code",
   "execution_count": 12,
   "id": "5945ad1d-9a0c-4780-baea-6ba171981654",
   "metadata": {},
   "outputs": [],
   "source": [
    "t = fn.open_era_data(\n",
    "    root_path=root_path+'reanalysis/',\n",
    "    variable='2t',\n",
    "    years=years,\n",
    "    subset_region=rez_boundary,\n",
    "    rename_lon_lat=['lon', 'lat']\n",
    ")"
   ]
  },
  {
   "cell_type": "markdown",
   "id": "f235109c-014c-4f24-bdfa-6e4d0cd45822",
   "metadata": {},
   "source": [
    "Check size of dataset (in GB)"
   ]
  },
  {
   "cell_type": "code",
   "execution_count": 22,
   "id": "184bf165-c3b6-4939-9b95-070feca7dae1",
   "metadata": {},
   "outputs": [
    {
     "data": {
      "text/plain": [
       "25.412138305604458"
      ]
     },
     "execution_count": 22,
     "metadata": {},
     "output_type": "execute_result"
    }
   ],
   "source": [
    "t.nbytes / (1024 ** 3)"
   ]
  },
  {
   "cell_type": "markdown",
   "id": "41f39aac-6d75-4fb5-a76a-15b9f229679b",
   "metadata": {},
   "source": [
    "Re-chunk to ~100Mb chunks."
   ]
  },
  {
   "cell_type": "code",
   "execution_count": 28,
   "id": "fd06faea-4633-4e8b-8d13-2b0c7c9ab7a7",
   "metadata": {},
   "outputs": [],
   "source": [
    "t = t.chunk({\n",
    "    'time': 24*90,\n",
    "    'lon': -1,\n",
    "    'lat': -1\n",
    "})"
   ]
  },
  {
   "cell_type": "markdown",
   "id": "53b54973-b7dd-4302-88b6-30405d5f3a40",
   "metadata": {},
   "source": [
    "Save to zarr"
   ]
  },
  {
   "cell_type": "code",
   "execution_count": 18,
   "id": "1ba2be06-3119-4752-8654-ee580988b9da",
   "metadata": {},
   "outputs": [],
   "source": [
    "t_encoding = {\n",
    "    't2m': {\n",
    "        'dtype': 'float32'\n",
    "    }\n",
    "}"
   ]
  },
  {
   "cell_type": "code",
   "execution_count": 33,
   "id": "e76fdcc5-e448-4e8d-bec0-914430a97a38",
   "metadata": {},
   "outputs": [
    {
     "data": {
      "text/plain": [
       "<xarray.backends.zarr.ZarrStore at 0x147310823b50>"
      ]
     },
     "execution_count": 33,
     "metadata": {},
     "output_type": "execute_result"
    }
   ],
   "source": [
    "t.to_zarr(\n",
    "    '/g/data/w42/dr6273/work/data/era5/2t/2t_era5_reanalysis_sfc_'+str(years[0])+'-'+str(years[-1])+'_REZ_region.zarr',\n",
    "    mode='w',\n",
    "    consolidated=True,\n",
    "    encoding=t_encoding\n",
    ")"
   ]
  },
  {
   "cell_type": "markdown",
   "id": "aeaa4998-e652-41ac-b7d4-e86cca533599",
   "metadata": {},
   "source": [
    "### Compute daily averages"
   ]
  },
  {
   "cell_type": "markdown",
   "id": "b1327b65-5241-47f3-a2ff-b8dc602d9d6b",
   "metadata": {},
   "source": [
    "Do this using 24 hour rolling mean, then select all 1400 hour times (equivalent to 0000 eastern state time)"
   ]
  },
  {
   "cell_type": "code",
   "execution_count": 13,
   "id": "219607ba-3db2-4b5f-9741-5ec048c01683",
   "metadata": {},
   "outputs": [],
   "source": [
    "t = xr.open_zarr(\n",
    "    '/g/data/w42/dr6273/work/data/era5/2t/2t_era5_reanalysis_sfc_'+str(years[0])+'-'+str(years[-1])+'_REZ_region.zarr',\n",
    "    consolidated=True\n",
    ")"
   ]
  },
  {
   "cell_type": "code",
   "execution_count": 15,
   "id": "5ba208ea-447f-4b24-81d8-6009de58f23d",
   "metadata": {},
   "outputs": [],
   "source": [
    "t_1400 = fn.daily_mean_1400(t)"
   ]
  },
  {
   "cell_type": "code",
   "execution_count": 16,
   "id": "85e1e012-1b36-4e64-a8a4-28030d62be8d",
   "metadata": {},
   "outputs": [],
   "source": [
    "t_1400 = t_1400.chunk({'time': 365*6})"
   ]
  },
  {
   "cell_type": "code",
   "execution_count": 19,
   "id": "57fb76ec-7d14-4cde-8b83-846fcc8f9389",
   "metadata": {},
   "outputs": [
    {
     "data": {
      "text/plain": [
       "<xarray.backends.zarr.ZarrStore at 0x1508ff744890>"
      ]
     },
     "execution_count": 19,
     "metadata": {},
     "output_type": "execute_result"
    }
   ],
   "source": [
    "t_1400.to_zarr(\n",
    "    '/g/data/w42/dr6273/work/data/era5/2t/2t_era5_daily_1400UTC_sfc_'+str(years[0])+'-'+str(years[-1])+'_REZ_region.zarr',\n",
    "    mode='w',\n",
    "    consolidated=True,\n",
    "    encoding=t_encoding\n",
    ")"
   ]
  },
  {
   "cell_type": "markdown",
   "id": "179d204d-5c7d-465c-bdfa-9f7b9fe24edc",
   "metadata": {},
   "source": [
    "# Monthly runoff"
   ]
  },
  {
   "cell_type": "code",
   "execution_count": 30,
   "id": "8c9551aa-84b0-44b3-a8f3-eb1d286f3210",
   "metadata": {},
   "outputs": [],
   "source": [
    "ro = fn.open_era_data(\n",
    "    root_path=root_path+'monthly-averaged/',\n",
    "    variable='ro',\n",
    "    years=years,\n",
    "    subset_region=rez_region['boundary'],\n",
    "    rename_lon_lat=['lon', 'lat']\n",
    ")"
   ]
  },
  {
   "cell_type": "markdown",
   "id": "da34dc18-ec52-49a2-a925-29a0946d5cfb",
   "metadata": {},
   "source": [
    "Check size of dataset (in GB)"
   ]
  },
  {
   "cell_type": "code",
   "execution_count": 31,
   "id": "4685e7e4-183a-45ce-aeec-9494a7203b7b",
   "metadata": {},
   "outputs": [
    {
     "data": {
      "text/plain": [
       "0.03534848242998123"
      ]
     },
     "execution_count": 31,
     "metadata": {},
     "output_type": "execute_result"
    }
   ],
   "source": [
    "ro.nbytes / (1024 ** 3)"
   ]
  },
  {
   "cell_type": "markdown",
   "id": "267fb5a8-4df9-4d58-95fd-8ae2a2efbc58",
   "metadata": {},
   "source": [
    "Re-chunk to single chunk."
   ]
  },
  {
   "cell_type": "code",
   "execution_count": 32,
   "id": "1d21c59f-7986-4eaa-b027-77743e4c142e",
   "metadata": {},
   "outputs": [],
   "source": [
    "ro = ro.chunk({\n",
    "    'time': -1,\n",
    "    'lon': -1,\n",
    "    'lat': -1\n",
    "})"
   ]
  },
  {
   "cell_type": "markdown",
   "id": "777d3873-ce57-403e-9de2-b872dd8b9b80",
   "metadata": {},
   "source": [
    "Save to zarr"
   ]
  },
  {
   "cell_type": "code",
   "execution_count": 33,
   "id": "b5aaac14-0330-4622-b80b-7b0214cc2d35",
   "metadata": {},
   "outputs": [],
   "source": [
    "ro_encoding = {\n",
    "    'ro': {\n",
    "        'dtype': 'float32'\n",
    "    }\n",
    "}"
   ]
  },
  {
   "cell_type": "code",
   "execution_count": 35,
   "id": "56bbbae1-1e48-48d2-82e5-6478baaaac0c",
   "metadata": {},
   "outputs": [
    {
     "data": {
      "text/plain": [
       "<xarray.backends.zarr.ZarrStore at 0x146d0c31b7d0>"
      ]
     },
     "execution_count": 35,
     "metadata": {},
     "output_type": "execute_result"
    }
   ],
   "source": [
    "ro.to_zarr(\n",
    "    '/g/data/w42/dr6273/work/data/era5/ro/ro_era5_monthly-averaged_sfc_'+str(years[0])+'-'+str(years[-1])+'_'+rez_region['name']+'_region.zarr',\n",
    "    mode='w',\n",
    "    consolidated=True,\n",
    "    encoding=ro_encoding\n",
    ")"
   ]
  },
  {
   "cell_type": "code",
   "execution_count": null,
   "id": "1f7e8332-3525-4d7d-be67-db383cac6261",
   "metadata": {},
   "outputs": [],
   "source": []
  }
 ],
 "metadata": {
  "kernelspec": {
   "display_name": "Python (pangeo)",
   "language": "python",
   "name": "pangeo"
  },
  "language_info": {
   "codemirror_mode": {
    "name": "ipython",
    "version": 3
   },
   "file_extension": ".py",
   "mimetype": "text/x-python",
   "name": "python",
   "nbconvert_exporter": "python",
   "pygments_lexer": "ipython3",
   "version": "3.10.8"
  }
 },
 "nbformat": 4,
 "nbformat_minor": 5
}
