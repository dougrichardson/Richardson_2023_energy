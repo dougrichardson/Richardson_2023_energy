{
 "cells": [
  {
   "cell_type": "markdown",
   "id": "a6f59ea9-bd0c-4641-b35b-393ec69ba8ef",
   "metadata": {},
   "source": [
    "# Bootstrapping"
   ]
  },
  {
   "cell_type": "code",
   "execution_count": 2,
   "id": "c1c2a55d-8686-4f15-89d4-b2da4fbb6c79",
   "metadata": {},
   "outputs": [],
   "source": [
    "import xarray as xr\n",
    "import numpy as np"
   ]
  },
  {
   "cell_type": "code",
   "execution_count": 3,
   "id": "7f29f496-9644-4008-98dc-895d8c82aefb",
   "metadata": {},
   "outputs": [],
   "source": [
    "from xbootstrap import block_bootstrap"
   ]
  },
  {
   "cell_type": "markdown",
   "id": "ed79a33c-60c2-4812-aab7-a9aaefa1b8f3",
   "metadata": {},
   "source": [
    "# Test"
   ]
  },
  {
   "cell_type": "code",
   "execution_count": 4,
   "id": "7a600db3-a102-4587-9ec2-c6a54cc8a66c",
   "metadata": {},
   "outputs": [],
   "source": [
    "import dask.array"
   ]
  },
  {
   "cell_type": "code",
   "execution_count": 5,
   "id": "60ff9857-4a3d-4e25-a71c-2362fa97fe80",
   "metadata": {},
   "outputs": [],
   "source": [
    "np_arr = np.zeros(shape=(10, 5))"
   ]
  },
  {
   "cell_type": "code",
   "execution_count": 6,
   "id": "f0068ff9-0405-41e6-9154-34b5f253fd22",
   "metadata": {},
   "outputs": [],
   "source": [
    "shape = (240, 240, 240)\n",
    "\n",
    "darray = dask.array.zeros(shape, chunks=(-1, -1, -1))"
   ]
  },
  {
   "cell_type": "code",
   "execution_count": 7,
   "id": "0e8955d3-4683-4327-a4fb-f5bc07a6012e",
   "metadata": {},
   "outputs": [],
   "source": [
    "def test_block_bootstrap_output_type(data):\n",
    "    \"\"\"Test that output type is correct\"\"\"\n",
    "    shape = data.shape\n",
    "    x = xr.DataArray(\n",
    "        data,\n",
    "        coords={f\"d{i}\": range(shape[i]) for i in range(len(shape))},\n",
    "    )\n",
    "    out = block_bootstrap(x, blocks={\"d0\": 1}, n_iteration=2)\n",
    "    assert isinstance(out, xr.DataArray)\n",
    "    out = block_bootstrap(x, x, blocks={\"d0\": 1}, n_iteration=2)\n",
    "    assert isinstance(out, tuple)"
   ]
  },
  {
   "cell_type": "code",
   "execution_count": 9,
   "id": "f915f8fe-075c-44ee-801a-1cb54ce8d7c0",
   "metadata": {},
   "outputs": [],
   "source": [
    "test_block_bootstrap_output_type(data=np_arr)"
   ]
  },
  {
   "cell_type": "markdown",
   "id": "d1e8b3f9-4422-4e1c-9070-bd1b3b47bd24",
   "metadata": {},
   "source": [
    "### From previous code:"
   ]
  },
  {
   "cell_type": "code",
   "execution_count": 54,
   "id": "9be99066-52fe-480a-a569-23f06209aa55",
   "metadata": {},
   "outputs": [
    {
     "ename": "TypeError",
     "evalue": "concat() got multiple values for argument 'dim'",
     "output_type": "error",
     "traceback": [
      "\u001b[0;31m---------------------------------------------------------------------------\u001b[0m",
      "\u001b[0;31mTypeError\u001b[0m                                 Traceback (most recent call last)",
      "Cell \u001b[0;32mIn[54], line 1\u001b[0m\n\u001b[0;32m----> 1\u001b[0m \u001b[43mtest_block_bootstrap_output_type\u001b[49m\u001b[43m(\u001b[49m\u001b[43m)\u001b[49m\n",
      "Cell \u001b[0;32mIn[53], line 10\u001b[0m, in \u001b[0;36mtest_block_bootstrap_output_type\u001b[0;34m()\u001b[0m\n\u001b[1;32m      5\u001b[0m x \u001b[38;5;241m=\u001b[39m xr\u001b[38;5;241m.\u001b[39mDataArray(\n\u001b[1;32m      6\u001b[0m     data,\n\u001b[1;32m      7\u001b[0m     coords\u001b[38;5;241m=\u001b[39m{\u001b[38;5;124mf\u001b[39m\u001b[38;5;124m\"\u001b[39m\u001b[38;5;124md\u001b[39m\u001b[38;5;132;01m{\u001b[39;00mi\u001b[38;5;132;01m}\u001b[39;00m\u001b[38;5;124m\"\u001b[39m: \u001b[38;5;28mrange\u001b[39m(shape[i]) \u001b[38;5;28;01mfor\u001b[39;00m i \u001b[38;5;129;01min\u001b[39;00m \u001b[38;5;28mrange\u001b[39m(\u001b[38;5;28mlen\u001b[39m(shape))},\n\u001b[1;32m      8\u001b[0m )\n\u001b[1;32m      9\u001b[0m x \u001b[38;5;241m=\u001b[39m x\u001b[38;5;241m.\u001b[39mchunk()\n\u001b[0;32m---> 10\u001b[0m out \u001b[38;5;241m=\u001b[39m \u001b[43mblock_bootstrap\u001b[49m\u001b[43m(\u001b[49m\u001b[43mx\u001b[49m\u001b[43m,\u001b[49m\u001b[43m \u001b[49m\u001b[43mblocks\u001b[49m\u001b[38;5;241;43m=\u001b[39;49m\u001b[43m{\u001b[49m\u001b[38;5;124;43m\"\u001b[39;49m\u001b[38;5;124;43md0\u001b[39;49m\u001b[38;5;124;43m\"\u001b[39;49m\u001b[43m:\u001b[49m\u001b[43m \u001b[49m\u001b[38;5;241;43m1\u001b[39;49m\u001b[43m}\u001b[49m\u001b[43m,\u001b[49m\u001b[43m \u001b[49m\u001b[43mn_iteration\u001b[49m\u001b[38;5;241;43m=\u001b[39;49m\u001b[38;5;241;43m80\u001b[39;49m\u001b[43m)\u001b[49m\n\u001b[1;32m     11\u001b[0m \u001b[38;5;28;01massert\u001b[39;00m \u001b[38;5;28misinstance\u001b[39m(out, xr\u001b[38;5;241m.\u001b[39mDataArray)\n\u001b[1;32m     12\u001b[0m out \u001b[38;5;241m=\u001b[39m block_bootstrap(x, x, blocks\u001b[38;5;241m=\u001b[39m{\u001b[38;5;124m\"\u001b[39m\u001b[38;5;124md0\u001b[39m\u001b[38;5;124m\"\u001b[39m: \u001b[38;5;241m1\u001b[39m}, n_iteration\u001b[38;5;241m=\u001b[39m\u001b[38;5;241m80\u001b[39m)\n",
      "File \u001b[0;32m/g/data/w42/dr6273/work/xbootstrap/xbootstrap/core.py:403\u001b[0m, in \u001b[0;36mblock_bootstrap\u001b[0;34m(blocks, n_iteration, exclude_dims, circular, *objects)\u001b[0m\n\u001b[1;32m    392\u001b[0m     bootstraps\u001b[38;5;241m.\u001b[39mappend(\n\u001b[1;32m    393\u001b[0m         _block_bootstrap(\n\u001b[1;32m    394\u001b[0m             \u001b[38;5;241m*\u001b[39mobjects,\n\u001b[0;32m   (...)\u001b[0m\n\u001b[1;32m    399\u001b[0m         )\n\u001b[1;32m    400\u001b[0m     )\n\u001b[1;32m    402\u001b[0m \u001b[38;5;28;01mif\u001b[39;00m \u001b[38;5;28mlen\u001b[39m(objects) \u001b[38;5;241m==\u001b[39m \u001b[38;5;241m1\u001b[39m:\n\u001b[0;32m--> 403\u001b[0m     \u001b[38;5;28;01mreturn\u001b[39;00m \u001b[43mxr\u001b[49m\u001b[38;5;241;43m.\u001b[39;49m\u001b[43mconcat\u001b[49m\u001b[43m(\u001b[49m\n\u001b[1;32m    404\u001b[0m \u001b[43m        \u001b[49m\u001b[38;5;241;43m*\u001b[39;49m\u001b[43mbootstraps\u001b[49m\u001b[43m,\u001b[49m\n\u001b[1;32m    405\u001b[0m \u001b[43m        \u001b[49m\u001b[43mdim\u001b[49m\u001b[38;5;241;43m=\u001b[39;49m\u001b[38;5;124;43m\"\u001b[39;49m\u001b[38;5;124;43miteration\u001b[39;49m\u001b[38;5;124;43m\"\u001b[39;49m\u001b[43m,\u001b[49m\n\u001b[1;32m    406\u001b[0m \u001b[43m        \u001b[49m\u001b[43mcoords\u001b[49m\u001b[38;5;241;43m=\u001b[39;49m\u001b[38;5;124;43m\"\u001b[39;49m\u001b[38;5;124;43mminimal\u001b[39;49m\u001b[38;5;124;43m\"\u001b[39;49m\u001b[43m,\u001b[49m\n\u001b[1;32m    407\u001b[0m \u001b[43m        \u001b[49m\u001b[43mcompat\u001b[49m\u001b[38;5;241;43m=\u001b[39;49m\u001b[38;5;124;43m\"\u001b[39;49m\u001b[38;5;124;43moverride\u001b[39;49m\u001b[38;5;124;43m\"\u001b[39;49m\u001b[43m,\u001b[49m\n\u001b[1;32m    408\u001b[0m \u001b[43m    \u001b[49m\u001b[43m)\u001b[49m\n\u001b[1;32m    409\u001b[0m \u001b[38;5;28;01melse\u001b[39;00m:\n\u001b[1;32m    410\u001b[0m     \u001b[38;5;28;01mreturn\u001b[39;00m \u001b[38;5;28mtuple\u001b[39m(\n\u001b[1;32m    411\u001b[0m         [\n\u001b[1;32m    412\u001b[0m             xr\u001b[38;5;241m.\u001b[39mconcat(\n\u001b[0;32m   (...)\u001b[0m\n\u001b[1;32m    419\u001b[0m         ]\n\u001b[1;32m    420\u001b[0m     )\n",
      "\u001b[0;31mTypeError\u001b[0m: concat() got multiple values for argument 'dim'"
     ]
    }
   ],
   "source": [
    "test_block_bootstrap_output_type()"
   ]
  },
  {
   "cell_type": "code",
   "execution_count": null,
   "id": "c1f698fb-3096-4e19-adfd-fc73ee1546a2",
   "metadata": {},
   "outputs": [],
   "source": []
  }
 ],
 "metadata": {
  "kernelspec": {
   "display_name": "Python (pangeo)",
   "language": "python",
   "name": "pangeo"
  },
  "language_info": {
   "codemirror_mode": {
    "name": "ipython",
    "version": 3
   },
   "file_extension": ".py",
   "mimetype": "text/x-python",
   "name": "python",
   "nbconvert_exporter": "python",
   "pygments_lexer": "ipython3",
   "version": "3.10.8"
  }
 },
 "nbformat": 4,
 "nbformat_minor": 5
}
